{
 "cells": [
  {
   "cell_type": "code",
   "execution_count": 1,
   "id": "12e9edfa",
   "metadata": {
    "tags": []
   },
   "outputs": [],
   "source": [
    "import pandas as pd\n",
    "import numpy as np\n",
    "\n",
    "from sklearn.linear_model import LinearRegression\n",
    "\n",
    "from sklearn.model_selection import cross_val_score, KFold"
   ]
  },
  {
   "cell_type": "markdown",
   "id": "5fa69641",
   "metadata": {},
   "source": [
    "# K-fold Cross Validation"
   ]
  },
  {
   "cell_type": "code",
   "execution_count": 2,
   "id": "e1d2ed4a",
   "metadata": {
    "scrolled": true,
    "tags": []
   },
   "outputs": [],
   "source": [
    "data = pd.read_csv(\"data/real_estate.csv\", delimiter = \";\")\n",
    "data = data.drop([\"No\", \"latitude\", \"longitude\"], axis=1)"
   ]
  },
  {
   "cell_type": "code",
   "execution_count": 3,
   "id": "98293dfd",
   "metadata": {
    "tags": []
   },
   "outputs": [
    {
     "data": {
      "text/html": [
       "<div>\n",
       "<style scoped>\n",
       "    .dataframe tbody tr th:only-of-type {\n",
       "        vertical-align: middle;\n",
       "    }\n",
       "\n",
       "    .dataframe tbody tr th {\n",
       "        vertical-align: top;\n",
       "    }\n",
       "\n",
       "    .dataframe thead th {\n",
       "        text-align: right;\n",
       "    }\n",
       "</style>\n",
       "<table border=\"1\" class=\"dataframe\">\n",
       "  <thead>\n",
       "    <tr style=\"text-align: right;\">\n",
       "      <th></th>\n",
       "      <th>transaction_date</th>\n",
       "      <th>house_age</th>\n",
       "      <th>distance_to_the_nearest_MRT_station</th>\n",
       "      <th>number_of_convenience_stores</th>\n",
       "      <th>house_price_of_unit_area</th>\n",
       "    </tr>\n",
       "  </thead>\n",
       "  <tbody>\n",
       "    <tr>\n",
       "      <th>0</th>\n",
       "      <td>2012.917</td>\n",
       "      <td>32.0</td>\n",
       "      <td>84.87882</td>\n",
       "      <td>10</td>\n",
       "      <td>37.9</td>\n",
       "    </tr>\n",
       "    <tr>\n",
       "      <th>1</th>\n",
       "      <td>2012.917</td>\n",
       "      <td>19.5</td>\n",
       "      <td>306.59470</td>\n",
       "      <td>9</td>\n",
       "      <td>42.2</td>\n",
       "    </tr>\n",
       "    <tr>\n",
       "      <th>2</th>\n",
       "      <td>2013.583</td>\n",
       "      <td>13.3</td>\n",
       "      <td>561.98450</td>\n",
       "      <td>5</td>\n",
       "      <td>47.3</td>\n",
       "    </tr>\n",
       "    <tr>\n",
       "      <th>3</th>\n",
       "      <td>2013.500</td>\n",
       "      <td>13.3</td>\n",
       "      <td>561.98450</td>\n",
       "      <td>5</td>\n",
       "      <td>54.8</td>\n",
       "    </tr>\n",
       "    <tr>\n",
       "      <th>4</th>\n",
       "      <td>2012.833</td>\n",
       "      <td>5.0</td>\n",
       "      <td>390.56840</td>\n",
       "      <td>5</td>\n",
       "      <td>43.1</td>\n",
       "    </tr>\n",
       "  </tbody>\n",
       "</table>\n",
       "</div>"
      ],
      "text/plain": [
       "   transaction_date  house_age  distance_to_the_nearest_MRT_station  \\\n",
       "0          2012.917       32.0                             84.87882   \n",
       "1          2012.917       19.5                            306.59470   \n",
       "2          2013.583       13.3                            561.98450   \n",
       "3          2013.500       13.3                            561.98450   \n",
       "4          2012.833        5.0                            390.56840   \n",
       "\n",
       "   number_of_convenience_stores  house_price_of_unit_area  \n",
       "0                            10                      37.9  \n",
       "1                             9                      42.2  \n",
       "2                             5                      47.3  \n",
       "3                             5                      54.8  \n",
       "4                             5                      43.1  "
      ]
     },
     "execution_count": 3,
     "metadata": {},
     "output_type": "execute_result"
    }
   ],
   "source": [
    "data.head()"
   ]
  },
  {
   "cell_type": "code",
   "execution_count": 4,
   "id": "e6a96559-5418-448c-8cc2-7f167e07b59a",
   "metadata": {
    "tags": []
   },
   "outputs": [
    {
     "data": {
      "text/plain": [
       "transaction_date                       float64\n",
       "house_age                              float64\n",
       "distance_to_the_nearest_MRT_station    float64\n",
       "number_of_convenience_stores             int64\n",
       "house_price_of_unit_area               float64\n",
       "dtype: object"
      ]
     },
     "execution_count": 4,
     "metadata": {},
     "output_type": "execute_result"
    }
   ],
   "source": [
    "data.dtypes"
   ]
  },
  {
   "cell_type": "code",
   "execution_count": 5,
   "id": "53026aa2-6b77-4afd-ba5a-9874a5cf9c21",
   "metadata": {
    "tags": []
   },
   "outputs": [
    {
     "data": {
      "text/plain": [
       "transaction_date                       0\n",
       "house_age                              0\n",
       "distance_to_the_nearest_MRT_station    0\n",
       "number_of_convenience_stores           0\n",
       "house_price_of_unit_area               0\n",
       "dtype: int64"
      ]
     },
     "execution_count": 5,
     "metadata": {},
     "output_type": "execute_result"
    }
   ],
   "source": [
    "# Missing values per column\n",
    "data.isnull().sum()"
   ]
  },
  {
   "cell_type": "code",
   "execution_count": 6,
   "id": "a58ad892-1666-4b1c-ab96-979f43fb45fa",
   "metadata": {
    "tags": []
   },
   "outputs": [
    {
     "data": {
      "text/plain": [
       "0"
      ]
     },
     "execution_count": 6,
     "metadata": {},
     "output_type": "execute_result"
    }
   ],
   "source": [
    "# Missing values for your all dataset\n",
    "data.isnull().sum().sum()"
   ]
  },
  {
   "cell_type": "code",
   "execution_count": 7,
   "id": "a5075db3-9eea-4610-84ba-574914e0fc13",
   "metadata": {
    "tags": []
   },
   "outputs": [
    {
     "data": {
      "text/html": [
       "<div>\n",
       "<style scoped>\n",
       "    .dataframe tbody tr th:only-of-type {\n",
       "        vertical-align: middle;\n",
       "    }\n",
       "\n",
       "    .dataframe tbody tr th {\n",
       "        vertical-align: top;\n",
       "    }\n",
       "\n",
       "    .dataframe thead th {\n",
       "        text-align: right;\n",
       "    }\n",
       "</style>\n",
       "<table border=\"1\" class=\"dataframe\">\n",
       "  <thead>\n",
       "    <tr style=\"text-align: right;\">\n",
       "      <th></th>\n",
       "      <th>transaction_date</th>\n",
       "      <th>house_age</th>\n",
       "      <th>distance_to_the_nearest_MRT_station</th>\n",
       "      <th>number_of_convenience_stores</th>\n",
       "      <th>house_price_of_unit_area</th>\n",
       "    </tr>\n",
       "  </thead>\n",
       "  <tbody>\n",
       "    <tr>\n",
       "      <th>count</th>\n",
       "      <td>414.000000</td>\n",
       "      <td>414.000000</td>\n",
       "      <td>414.000000</td>\n",
       "      <td>414.000000</td>\n",
       "      <td>414.000000</td>\n",
       "    </tr>\n",
       "    <tr>\n",
       "      <th>mean</th>\n",
       "      <td>2013.148971</td>\n",
       "      <td>17.712560</td>\n",
       "      <td>1083.885689</td>\n",
       "      <td>4.094203</td>\n",
       "      <td>37.980193</td>\n",
       "    </tr>\n",
       "    <tr>\n",
       "      <th>std</th>\n",
       "      <td>0.281967</td>\n",
       "      <td>11.392485</td>\n",
       "      <td>1262.109595</td>\n",
       "      <td>2.945562</td>\n",
       "      <td>13.606488</td>\n",
       "    </tr>\n",
       "    <tr>\n",
       "      <th>min</th>\n",
       "      <td>2012.667000</td>\n",
       "      <td>0.000000</td>\n",
       "      <td>23.382840</td>\n",
       "      <td>0.000000</td>\n",
       "      <td>7.600000</td>\n",
       "    </tr>\n",
       "    <tr>\n",
       "      <th>25%</th>\n",
       "      <td>2012.917000</td>\n",
       "      <td>9.025000</td>\n",
       "      <td>289.324800</td>\n",
       "      <td>1.000000</td>\n",
       "      <td>27.700000</td>\n",
       "    </tr>\n",
       "    <tr>\n",
       "      <th>50%</th>\n",
       "      <td>2013.167000</td>\n",
       "      <td>16.100000</td>\n",
       "      <td>492.231300</td>\n",
       "      <td>4.000000</td>\n",
       "      <td>38.450000</td>\n",
       "    </tr>\n",
       "    <tr>\n",
       "      <th>75%</th>\n",
       "      <td>2013.417000</td>\n",
       "      <td>28.150000</td>\n",
       "      <td>1454.279000</td>\n",
       "      <td>6.000000</td>\n",
       "      <td>46.600000</td>\n",
       "    </tr>\n",
       "    <tr>\n",
       "      <th>max</th>\n",
       "      <td>2013.583000</td>\n",
       "      <td>43.800000</td>\n",
       "      <td>6488.021000</td>\n",
       "      <td>10.000000</td>\n",
       "      <td>117.500000</td>\n",
       "    </tr>\n",
       "  </tbody>\n",
       "</table>\n",
       "</div>"
      ],
      "text/plain": [
       "       transaction_date   house_age  distance_to_the_nearest_MRT_station  \\\n",
       "count        414.000000  414.000000                           414.000000   \n",
       "mean        2013.148971   17.712560                          1083.885689   \n",
       "std            0.281967   11.392485                          1262.109595   \n",
       "min         2012.667000    0.000000                            23.382840   \n",
       "25%         2012.917000    9.025000                           289.324800   \n",
       "50%         2013.167000   16.100000                           492.231300   \n",
       "75%         2013.417000   28.150000                          1454.279000   \n",
       "max         2013.583000   43.800000                          6488.021000   \n",
       "\n",
       "       number_of_convenience_stores  house_price_of_unit_area  \n",
       "count                    414.000000                414.000000  \n",
       "mean                       4.094203                 37.980193  \n",
       "std                        2.945562                 13.606488  \n",
       "min                        0.000000                  7.600000  \n",
       "25%                        1.000000                 27.700000  \n",
       "50%                        4.000000                 38.450000  \n",
       "75%                        6.000000                 46.600000  \n",
       "max                       10.000000                117.500000  "
      ]
     },
     "execution_count": 7,
     "metadata": {},
     "output_type": "execute_result"
    }
   ],
   "source": [
    "data.describe()"
   ]
  },
  {
   "cell_type": "markdown",
   "id": "28516473-bc70-4b8d-ba6a-e0afa4438ca9",
   "metadata": {},
   "source": [
    "## Work on EDA \n",
    "-  most likely transaction_date should be droped or featured engineered"
   ]
  },
  {
   "cell_type": "markdown",
   "id": "4a148e9d-0e56-4296-904b-cd6a46f18808",
   "metadata": {},
   "source": [
    "# Work on your model\n",
    "## Journey building your model -- you have your model!\n",
    "\n",
    "- Does my model generalize well?\n",
    "    - You'll run K-cross validation to see how robust your model is\n",
    "        - Performance over different splits train/test\n",
    "        - Preventing/Discovering if you have overfitting issues with slices of your data"
   ]
  },
  {
   "cell_type": "markdown",
   "id": "f069fe62-6e3a-4e9f-9962-5e4be3e7473f",
   "metadata": {},
   "source": [
    "# K-cross validation\n",
    "- K = 5\n",
    "- Reproducible -- set a fixed random_seed\n",
    "- shuffle - making sure your data is shuffled before creating the folds"
   ]
  },
  {
   "cell_type": "code",
   "execution_count": 8,
   "id": "d45197c7",
   "metadata": {
    "tags": []
   },
   "outputs": [],
   "source": [
    "num_folds = 5\n",
    "random_seed = 42\n",
    "\n",
    "kfold = KFold(\n",
    "    n_splits=num_folds,\n",
    "    shuffle=True,\n",
    "    random_state=random_seed,\n",
    ")"
   ]
  },
  {
   "cell_type": "code",
   "execution_count": 9,
   "id": "8e0fe690-601d-46dd-b63a-6bd0cf96206e",
   "metadata": {
    "tags": []
   },
   "outputs": [
    {
     "data": {
      "text/plain": [
       "KFold(n_splits=5, random_state=42, shuffle=True)"
      ]
     },
     "execution_count": 9,
     "metadata": {},
     "output_type": "execute_result"
    }
   ],
   "source": [
    "kfold"
   ]
  },
  {
   "cell_type": "code",
   "execution_count": 10,
   "id": "51176311",
   "metadata": {
    "tags": []
   },
   "outputs": [],
   "source": [
    "# Target variable (house_price_of_unit_area) numerical / Float choose a model accordingly\n",
    "lr = LinearRegression()"
   ]
  },
  {
   "cell_type": "code",
   "execution_count": 11,
   "id": "92faad8f-24cf-4b3d-a286-186b79406792",
   "metadata": {
    "tags": []
   },
   "outputs": [],
   "source": [
    "# Here we are not doing the train/test split but in a real-model scenario you should\n",
    "# Splitting data\n",
    "# X = features\n",
    "# y = target variable\n",
    "X = data.drop([\"house_price_of_unit_area\"], axis=1)\n",
    "y = data[\"house_price_of_unit_area\"]\n",
    "\n",
    "\n",
    "# Train/test split\n",
    "# should go here"
   ]
  },
  {
   "cell_type": "code",
   "execution_count": 37,
   "id": "10c19509-dab5-4acf-9961-0c986863513d",
   "metadata": {
    "tags": []
   },
   "outputs": [],
   "source": [
    "#cross_val_score?"
   ]
  },
  {
   "cell_type": "code",
   "execution_count": 12,
   "id": "ec949038",
   "metadata": {
    "tags": []
   },
   "outputs": [],
   "source": [
    "# Scoring: https://scikit-learn.org/stable/modules/model_evaluation.html\n",
    "results = cross_val_score(\n",
    "    estimator = lr, \n",
    "    X = X, # in other scenarios, X = train split\n",
    "    y = y, \n",
    "    cv = kfold,\n",
    "#    scoring=\"r2\"\n",
    "    scoring=\"neg_mean_squared_error\" # MSE\n",
    ")"
   ]
  },
  {
   "cell_type": "code",
   "execution_count": 60,
   "id": "4c4d7c6f-5380-4e57-a6a6-6f7b8bb3f86b",
   "metadata": {
    "tags": []
   },
   "outputs": [],
   "source": [
    "#data.head()"
   ]
  },
  {
   "cell_type": "code",
   "execution_count": 13,
   "id": "b6890d41-ebd9-4ed0-a31e-1b4412b41192",
   "metadata": {
    "tags": []
   },
   "outputs": [
    {
     "data": {
      "text/plain": [
       "5"
      ]
     },
     "execution_count": 13,
     "metadata": {},
     "output_type": "execute_result"
    }
   ],
   "source": [
    "len(results)"
   ]
  },
  {
   "cell_type": "code",
   "execution_count": 14,
   "id": "5116b868-770a-4008-8af5-93f148229216",
   "metadata": {
    "tags": []
   },
   "outputs": [
    {
     "data": {
      "text/plain": [
       "[-56.11619009787396,\n",
       " -74.45258537879404,\n",
       " -74.11612889169152,\n",
       " -78.0223953768302,\n",
       " -135.29511323704259]"
      ]
     },
     "execution_count": 14,
     "metadata": {},
     "output_type": "execute_result"
    }
   ],
   "source": [
    "list(results)"
   ]
  },
  {
   "cell_type": "code",
   "execution_count": 15,
   "id": "f73badf2-5a96-4493-8e7b-22e1c4eeeb27",
   "metadata": {
    "tags": []
   },
   "outputs": [
    {
     "data": {
      "text/plain": [
       "-83.6"
      ]
     },
     "execution_count": 15,
     "metadata": {},
     "output_type": "execute_result"
    }
   ],
   "source": [
    "# average performance\n",
    "round(np.mean(results),2)"
   ]
  },
  {
   "cell_type": "code",
   "execution_count": 16,
   "id": "9265b0f6-5a16-41cc-993e-b09e3ec23b41",
   "metadata": {
    "tags": []
   },
   "outputs": [
    {
     "data": {
      "text/plain": [
       "26.95"
      ]
     },
     "execution_count": 16,
     "metadata": {},
     "output_type": "execute_result"
    }
   ],
   "source": [
    "# std\n",
    "round(np.std(results), 2)"
   ]
  },
  {
   "cell_type": "code",
   "execution_count": 17,
   "id": "8497a505-d424-448f-908d-4b435254600d",
   "metadata": {
    "tags": []
   },
   "outputs": [
    {
     "data": {
      "text/html": [
       "<div>\n",
       "<style scoped>\n",
       "    .dataframe tbody tr th:only-of-type {\n",
       "        vertical-align: middle;\n",
       "    }\n",
       "\n",
       "    .dataframe tbody tr th {\n",
       "        vertical-align: top;\n",
       "    }\n",
       "\n",
       "    .dataframe thead th {\n",
       "        text-align: right;\n",
       "    }\n",
       "</style>\n",
       "<table border=\"1\" class=\"dataframe\">\n",
       "  <thead>\n",
       "    <tr style=\"text-align: right;\">\n",
       "      <th></th>\n",
       "      <th>transaction_date</th>\n",
       "      <th>house_age</th>\n",
       "      <th>distance_to_the_nearest_MRT_station</th>\n",
       "      <th>number_of_convenience_stores</th>\n",
       "      <th>house_price_of_unit_area</th>\n",
       "    </tr>\n",
       "  </thead>\n",
       "  <tbody>\n",
       "    <tr>\n",
       "      <th>0</th>\n",
       "      <td>2012.917</td>\n",
       "      <td>32.0</td>\n",
       "      <td>84.87882</td>\n",
       "      <td>10</td>\n",
       "      <td>37.9</td>\n",
       "    </tr>\n",
       "    <tr>\n",
       "      <th>1</th>\n",
       "      <td>2012.917</td>\n",
       "      <td>19.5</td>\n",
       "      <td>306.59470</td>\n",
       "      <td>9</td>\n",
       "      <td>42.2</td>\n",
       "    </tr>\n",
       "    <tr>\n",
       "      <th>2</th>\n",
       "      <td>2013.583</td>\n",
       "      <td>13.3</td>\n",
       "      <td>561.98450</td>\n",
       "      <td>5</td>\n",
       "      <td>47.3</td>\n",
       "    </tr>\n",
       "    <tr>\n",
       "      <th>3</th>\n",
       "      <td>2013.500</td>\n",
       "      <td>13.3</td>\n",
       "      <td>561.98450</td>\n",
       "      <td>5</td>\n",
       "      <td>54.8</td>\n",
       "    </tr>\n",
       "    <tr>\n",
       "      <th>4</th>\n",
       "      <td>2012.833</td>\n",
       "      <td>5.0</td>\n",
       "      <td>390.56840</td>\n",
       "      <td>5</td>\n",
       "      <td>43.1</td>\n",
       "    </tr>\n",
       "  </tbody>\n",
       "</table>\n",
       "</div>"
      ],
      "text/plain": [
       "   transaction_date  house_age  distance_to_the_nearest_MRT_station  \\\n",
       "0          2012.917       32.0                             84.87882   \n",
       "1          2012.917       19.5                            306.59470   \n",
       "2          2013.583       13.3                            561.98450   \n",
       "3          2013.500       13.3                            561.98450   \n",
       "4          2012.833        5.0                            390.56840   \n",
       "\n",
       "   number_of_convenience_stores  house_price_of_unit_area  \n",
       "0                            10                      37.9  \n",
       "1                             9                      42.2  \n",
       "2                             5                      47.3  \n",
       "3                             5                      54.8  \n",
       "4                             5                      43.1  "
      ]
     },
     "execution_count": 17,
     "metadata": {},
     "output_type": "execute_result"
    }
   ],
   "source": [
    "data.head()"
   ]
  },
  {
   "cell_type": "code",
   "execution_count": 58,
   "id": "ba54fbcc",
   "metadata": {
    "scrolled": true,
    "tags": []
   },
   "outputs": [
    {
     "name": "stdout",
     "output_type": "stream",
     "text": [
      "SPLIT:  1\n",
      "TRAIN: [  1   2   3   4   5   6   7   8  10  11  12  13  14  16  18  19  20  21\n",
      "  23  26  27  28  29  32  34  35  36  37  38  40  41  43  44  45  47  48\n",
      "  49  50  51  52  53  54  58  59  60  61  62  63  64  65  66  67  68  69\n",
      "  71  74  75  80  81  83  85  86  87  88  89  91  92  95  96  97  98  99\n",
      " 100 101 102 103 105 106 107 108 109 111 112 113 114 115 117 119 120 121\n",
      " 122 123 125 127 128 129 130 132 133 134 135 136 138 139 142 143 144 145\n",
      " 146 147 148 149 150 151 153 154 156 158 159 160 161 162 163 164 166 167\n",
      " 168 169 170 171 172 174 176 177 178 179 181 182 183 185 186 187 188 189\n",
      " 190 191 192 193 194 195 196 197 198 199 200 201 202 204 205 206 207 209\n",
      " 210 211 212 213 214 215 216 217 218 219 220 221 223 224 226 227 228 229\n",
      " 230 232 233 234 235 236 237 239 240 241 242 243 244 245 246 247 248 249\n",
      " 250 251 252 253 254 255 256 257 258 259 260 261 263 264 265 267 268 269\n",
      " 270 273 276 277 278 279 280 281 282 284 285 287 288 289 292 293 294 295\n",
      " 296 297 298 299 300 301 302 303 304 305 306 307 308 309 310 312 313 314\n",
      " 315 316 318 319 321 322 323 324 325 326 327 328 329 330 331 332 333 334\n",
      " 335 337 338 339 340 341 342 343 344 345 346 348 349 351 352 353 354 356\n",
      " 357 359 362 363 366 367 368 370 371 372 375 377 378 379 380 381 382 383\n",
      " 384 385 386 387 388 389 390 391 392 393 394 395 396 397 398 400 403 404\n",
      " 406 407 408 410 411 412 413]\n",
      "TEST: [  0   9  15  17  22  24  25  30  31  33  39  42  46  55  56  57  70  72\n",
      "  73  76  77  78  79  82  84  90  93  94 104 110 116 118 124 126 131 137\n",
      " 140 141 152 155 157 165 173 175 180 184 203 208 222 225 231 238 262 266\n",
      " 271 272 274 275 283 286 290 291 311 317 320 336 347 350 355 358 360 361\n",
      " 364 365 369 373 374 376 399 401 402 405 409]\n",
      "----\n",
      "SPLIT:  2\n",
      "TRAIN: [  0   1   2   4   8   9  10  11  12  13  14  15  17  20  21  22  23  24\n",
      "  25  26  27  28  30  31  32  33  34  35  37  38  39  40  41  42  43  44\n",
      "  46  47  48  49  50  51  52  53  54  55  56  57  58  61  62  64  65  67\n",
      "  68  69  70  71  72  73  76  77  78  79  80  81  82  84  85  86  87  88\n",
      "  89  90  91  92  93  94  95  96  97  98  99 100 102 103 104 105 106 107\n",
      " 110 112 115 116 117 118 120 121 122 123 124 125 126 127 128 129 130 131\n",
      " 133 134 135 136 137 138 140 141 142 143 144 146 147 149 151 152 154 155\n",
      " 156 157 159 160 161 162 163 164 165 166 167 169 170 171 173 174 175 178\n",
      " 179 180 181 182 183 184 185 186 187 188 189 190 191 197 199 200 201 203\n",
      " 204 205 206 207 208 210 212 213 214 215 216 217 218 220 221 222 223 224\n",
      " 225 226 227 228 229 230 231 232 233 235 236 238 240 241 242 243 244 246\n",
      " 249 251 252 253 254 255 256 257 258 259 260 262 263 264 266 267 269 270\n",
      " 271 272 273 274 275 276 277 278 279 280 281 282 283 286 287 288 289 290\n",
      " 291 292 293 294 295 298 300 301 302 303 306 308 309 310 311 312 313 314\n",
      " 315 316 317 318 319 320 321 322 324 327 328 329 330 331 333 334 335 336\n",
      " 337 339 340 342 343 344 345 347 348 349 350 351 353 354 355 356 357 358\n",
      " 359 360 361 362 363 364 365 366 368 369 370 372 373 374 375 376 377 378\n",
      " 379 380 381 384 385 388 389 392 393 394 395 397 398 399 401 402 403 404\n",
      " 405 406 407 409 411 412 413]\n",
      "TEST: [  3   5   6   7  16  18  19  29  36  45  59  60  63  66  74  75  83 101\n",
      " 108 109 111 113 114 119 132 139 145 148 150 153 158 168 172 176 177 192\n",
      " 193 194 195 196 198 202 209 211 219 234 237 239 245 247 248 250 261 265\n",
      " 268 284 285 296 297 299 304 305 307 323 325 326 332 338 341 346 352 367\n",
      " 371 382 383 386 387 390 391 396 400 408 410]\n",
      "----\n",
      "SPLIT:  3\n",
      "TRAIN: [  0   1   3   4   5   6   7   8   9  12  13  14  15  16  17  18  19  20\n",
      "  21  22  24  25  26  27  28  29  30  31  32  33  34  35  36  39  40  41\n",
      "  42  43  44  45  46  47  48  49  50  51  52  53  54  55  56  57  58  59\n",
      "  60  61  62  63  64  65  66  70  71  72  73  74  75  76  77  78  79  80\n",
      "  82  83  84  85  87  88  90  91  93  94  95  98  99 100 101 102 104 105\n",
      " 106 107 108 109 110 111 113 114 115 116 118 119 120 121 124 126 127 128\n",
      " 130 131 132 133 134 135 137 138 139 140 141 142 145 148 149 150 151 152\n",
      " 153 155 156 157 158 159 160 161 162 165 166 168 169 170 171 172 173 174\n",
      " 175 176 177 178 180 184 186 187 188 189 190 191 192 193 194 195 196 198\n",
      " 200 201 202 203 205 206 207 208 209 211 212 213 214 215 216 217 219 221\n",
      " 222 224 225 226 230 231 234 235 236 237 238 239 240 241 242 243 245 247\n",
      " 248 250 251 252 253 254 256 257 259 260 261 262 263 264 265 266 267 268\n",
      " 269 270 271 272 273 274 275 276 277 279 282 283 284 285 286 288 290 291\n",
      " 292 293 295 296 297 299 300 302 303 304 305 306 307 308 309 310 311 312\n",
      " 313 315 316 317 318 319 320 321 322 323 324 325 326 328 330 332 334 335\n",
      " 336 338 339 341 342 343 344 345 346 347 348 350 351 352 353 355 357 358\n",
      " 359 360 361 363 364 365 367 368 369 370 371 372 373 374 376 377 378 379\n",
      " 380 382 383 385 386 387 390 391 393 395 396 397 399 400 401 402 403 404\n",
      " 405 407 408 409 410 411 413]\n",
      "TEST: [  2  10  11  23  37  38  67  68  69  81  86  89  92  96  97 103 112 117\n",
      " 122 123 125 129 136 143 144 146 147 154 163 164 167 179 181 182 183 185\n",
      " 197 199 204 210 218 220 223 227 228 229 232 233 244 246 249 255 258 278\n",
      " 280 281 287 289 294 298 301 314 327 329 331 333 337 340 349 354 356 362\n",
      " 366 375 381 384 388 389 392 394 398 406 412]\n",
      "----\n",
      "SPLIT:  4\n",
      "TRAIN: [  0   1   2   3   5   6   7   9  10  11  13  15  16  17  18  19  20  21\n",
      "  22  23  24  25  29  30  31  33  34  36  37  38  39  42  43  45  46  48\n",
      "  49  50  52  53  54  55  56  57  58  59  60  63  66  67  68  69  70  71\n",
      "  72  73  74  75  76  77  78  79  80  81  82  83  84  86  87  88  89  90\n",
      "  91  92  93  94  96  97  99 101 102 103 104 105 106 108 109 110 111 112\n",
      " 113 114 116 117 118 119 121 122 123 124 125 126 129 130 131 132 134 136\n",
      " 137 139 140 141 143 144 145 146 147 148 149 150 151 152 153 154 155 157\n",
      " 158 160 161 163 164 165 166 167 168 169 172 173 174 175 176 177 179 180\n",
      " 181 182 183 184 185 187 188 189 190 191 192 193 194 195 196 197 198 199\n",
      " 201 202 203 204 205 208 209 210 211 212 214 217 218 219 220 222 223 225\n",
      " 227 228 229 231 232 233 234 235 237 238 239 241 243 244 245 246 247 248\n",
      " 249 250 251 252 255 257 258 259 261 262 263 264 265 266 268 269 270 271\n",
      " 272 273 274 275 276 278 280 281 283 284 285 286 287 289 290 291 293 294\n",
      " 295 296 297 298 299 301 303 304 305 306 307 308 309 311 313 314 315 317\n",
      " 319 320 323 325 326 327 328 329 330 331 332 333 336 337 338 339 340 341\n",
      " 343 344 345 346 347 348 349 350 352 354 355 356 358 359 360 361 362 363\n",
      " 364 365 366 367 369 371 372 373 374 375 376 377 378 381 382 383 384 385\n",
      " 386 387 388 389 390 391 392 394 396 397 398 399 400 401 402 404 405 406\n",
      " 407 408 409 410 411 412 413]\n",
      "TEST: [  4   8  12  14  26  27  28  32  35  40  41  44  47  51  61  62  64  65\n",
      "  85  95  98 100 107 115 120 127 128 133 135 138 142 156 159 162 170 171\n",
      " 178 186 200 206 207 213 215 216 221 224 226 230 236 240 242 253 254 256\n",
      " 260 267 277 279 282 288 292 300 302 310 312 316 318 321 322 324 334 335\n",
      " 342 351 353 357 368 370 379 380 393 395 403]\n",
      "----\n",
      "SPLIT:  5\n",
      "TRAIN: [  0   2   3   4   5   6   7   8   9  10  11  12  14  15  16  17  18  19\n",
      "  22  23  24  25  26  27  28  29  30  31  32  33  35  36  37  38  39  40\n",
      "  41  42  44  45  46  47  51  55  56  57  59  60  61  62  63  64  65  66\n",
      "  67  68  69  70  72  73  74  75  76  77  78  79  81  82  83  84  85  86\n",
      "  89  90  92  93  94  95  96  97  98 100 101 103 104 107 108 109 110 111\n",
      " 112 113 114 115 116 117 118 119 120 122 123 124 125 126 127 128 129 131\n",
      " 132 133 135 136 137 138 139 140 141 142 143 144 145 146 147 148 150 152\n",
      " 153 154 155 156 157 158 159 162 163 164 165 167 168 170 171 172 173 175\n",
      " 176 177 178 179 180 181 182 183 184 185 186 192 193 194 195 196 197 198\n",
      " 199 200 202 203 204 206 207 208 209 210 211 213 215 216 218 219 220 221\n",
      " 222 223 224 225 226 227 228 229 230 231 232 233 234 236 237 238 239 240\n",
      " 242 244 245 246 247 248 249 250 253 254 255 256 258 260 261 262 265 266\n",
      " 267 268 271 272 274 275 277 278 279 280 281 282 283 284 285 286 287 288\n",
      " 289 290 291 292 294 296 297 298 299 300 301 302 304 305 307 310 311 312\n",
      " 314 316 317 318 320 321 322 323 324 325 326 327 329 331 332 333 334 335\n",
      " 336 337 338 340 341 342 346 347 349 350 351 352 353 354 355 356 357 358\n",
      " 360 361 362 364 365 366 367 368 369 370 371 373 374 375 376 379 380 381\n",
      " 382 383 384 386 387 388 389 390 391 392 393 394 395 396 398 399 400 401\n",
      " 402 403 405 406 408 409 410 412]\n",
      "TEST: [  1  13  20  21  34  43  48  49  50  52  53  54  58  71  80  87  88  91\n",
      "  99 102 105 106 121 130 134 149 151 160 161 166 169 174 187 188 189 190\n",
      " 191 201 205 212 214 217 235 241 243 251 252 257 259 263 264 269 270 273\n",
      " 276 293 295 303 306 308 309 313 315 319 328 330 339 343 344 345 348 359\n",
      " 363 372 377 378 385 397 404 407 411 413]\n",
      "----\n"
     ]
    }
   ],
   "source": [
    "var_i = 1\n",
    "for train_index, test_index in kfold.split(X):\n",
    "    print(\"SPLIT: \", var_i)\n",
    "    var_i+=1\n",
    "    print(\"TRAIN:\", train_index)\n",
    "    print(\"TEST:\", test_index)\n",
    "    print(\"----\")"
   ]
  },
  {
   "cell_type": "code",
   "execution_count": null,
   "id": "46cb5316-6edb-4ab0-b725-1e2cfd5806f0",
   "metadata": {},
   "outputs": [],
   "source": []
  },
  {
   "cell_type": "code",
   "execution_count": null,
   "id": "6ca67162",
   "metadata": {},
   "outputs": [],
   "source": []
  }
 ],
 "metadata": {
  "kernelspec": {
   "display_name": "Python 3 (ipykernel)",
   "language": "python",
   "name": "python3"
  },
  "language_info": {
   "codemirror_mode": {
    "name": "ipython",
    "version": 3
   },
   "file_extension": ".py",
   "mimetype": "text/x-python",
   "name": "python",
   "nbconvert_exporter": "python",
   "pygments_lexer": "ipython3",
   "version": "3.11.5"
  }
 },
 "nbformat": 4,
 "nbformat_minor": 5
}
