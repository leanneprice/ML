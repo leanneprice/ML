{
 "cells": [
  {
   "cell_type": "code",
   "execution_count": 1,
   "id": "64d8ad42",
   "metadata": {
    "tags": []
   },
   "outputs": [],
   "source": [
    "import pandas as pd"
   ]
  },
  {
   "cell_type": "code",
   "execution_count": 2,
   "id": "b156c157",
   "metadata": {
    "tags": []
   },
   "outputs": [],
   "source": [
    "# Read in the dataset.\n",
    "data = pd.read_csv(\"./data/customer_churn.csv\")"
   ]
  },
  {
   "cell_type": "code",
   "execution_count": 3,
   "id": "a7351543-1810-451d-969b-d45a5b16a650",
   "metadata": {
    "tags": []
   },
   "outputs": [
    {
     "data": {
      "text/html": [
       "<div>\n",
       "<style scoped>\n",
       "    .dataframe tbody tr th:only-of-type {\n",
       "        vertical-align: middle;\n",
       "    }\n",
       "\n",
       "    .dataframe tbody tr th {\n",
       "        vertical-align: top;\n",
       "    }\n",
       "\n",
       "    .dataframe thead th {\n",
       "        text-align: right;\n",
       "    }\n",
       "</style>\n",
       "<table border=\"1\" class=\"dataframe\">\n",
       "  <thead>\n",
       "    <tr style=\"text-align: right;\">\n",
       "      <th></th>\n",
       "      <th>customerID</th>\n",
       "      <th>gender</th>\n",
       "      <th>SeniorCitizen</th>\n",
       "      <th>Partner</th>\n",
       "      <th>Dependents</th>\n",
       "      <th>tenure</th>\n",
       "      <th>PhoneService</th>\n",
       "      <th>MultipleLines</th>\n",
       "      <th>InternetService</th>\n",
       "      <th>OnlineSecurity</th>\n",
       "      <th>...</th>\n",
       "      <th>DeviceProtection</th>\n",
       "      <th>TechSupport</th>\n",
       "      <th>StreamingTV</th>\n",
       "      <th>StreamingMovies</th>\n",
       "      <th>Contract</th>\n",
       "      <th>PaperlessBilling</th>\n",
       "      <th>PaymentMethod</th>\n",
       "      <th>MonthlyCharges</th>\n",
       "      <th>TotalCharges</th>\n",
       "      <th>Churn</th>\n",
       "    </tr>\n",
       "  </thead>\n",
       "  <tbody>\n",
       "    <tr>\n",
       "      <th>0</th>\n",
       "      <td>7590-VHVEG</td>\n",
       "      <td>Female</td>\n",
       "      <td>0</td>\n",
       "      <td>Yes</td>\n",
       "      <td>No</td>\n",
       "      <td>1</td>\n",
       "      <td>No</td>\n",
       "      <td>No phone service</td>\n",
       "      <td>DSL</td>\n",
       "      <td>No</td>\n",
       "      <td>...</td>\n",
       "      <td>No</td>\n",
       "      <td>No</td>\n",
       "      <td>No</td>\n",
       "      <td>No</td>\n",
       "      <td>Month-to-month</td>\n",
       "      <td>Yes</td>\n",
       "      <td>Electronic check</td>\n",
       "      <td>29.85</td>\n",
       "      <td>29.85</td>\n",
       "      <td>No</td>\n",
       "    </tr>\n",
       "    <tr>\n",
       "      <th>1</th>\n",
       "      <td>5575-GNVDE</td>\n",
       "      <td>Male</td>\n",
       "      <td>0</td>\n",
       "      <td>No</td>\n",
       "      <td>No</td>\n",
       "      <td>34</td>\n",
       "      <td>Yes</td>\n",
       "      <td>No</td>\n",
       "      <td>DSL</td>\n",
       "      <td>Yes</td>\n",
       "      <td>...</td>\n",
       "      <td>Yes</td>\n",
       "      <td>No</td>\n",
       "      <td>No</td>\n",
       "      <td>No</td>\n",
       "      <td>One year</td>\n",
       "      <td>No</td>\n",
       "      <td>Mailed check</td>\n",
       "      <td>56.95</td>\n",
       "      <td>1889.5</td>\n",
       "      <td>No</td>\n",
       "    </tr>\n",
       "    <tr>\n",
       "      <th>2</th>\n",
       "      <td>3668-QPYBK</td>\n",
       "      <td>Male</td>\n",
       "      <td>0</td>\n",
       "      <td>No</td>\n",
       "      <td>No</td>\n",
       "      <td>2</td>\n",
       "      <td>Yes</td>\n",
       "      <td>No</td>\n",
       "      <td>DSL</td>\n",
       "      <td>Yes</td>\n",
       "      <td>...</td>\n",
       "      <td>No</td>\n",
       "      <td>No</td>\n",
       "      <td>No</td>\n",
       "      <td>No</td>\n",
       "      <td>Month-to-month</td>\n",
       "      <td>Yes</td>\n",
       "      <td>Mailed check</td>\n",
       "      <td>53.85</td>\n",
       "      <td>108.15</td>\n",
       "      <td>Yes</td>\n",
       "    </tr>\n",
       "    <tr>\n",
       "      <th>3</th>\n",
       "      <td>7795-CFOCW</td>\n",
       "      <td>Male</td>\n",
       "      <td>0</td>\n",
       "      <td>No</td>\n",
       "      <td>No</td>\n",
       "      <td>45</td>\n",
       "      <td>No</td>\n",
       "      <td>No phone service</td>\n",
       "      <td>DSL</td>\n",
       "      <td>Yes</td>\n",
       "      <td>...</td>\n",
       "      <td>Yes</td>\n",
       "      <td>Yes</td>\n",
       "      <td>No</td>\n",
       "      <td>No</td>\n",
       "      <td>One year</td>\n",
       "      <td>No</td>\n",
       "      <td>Bank transfer (automatic)</td>\n",
       "      <td>42.30</td>\n",
       "      <td>1840.75</td>\n",
       "      <td>No</td>\n",
       "    </tr>\n",
       "    <tr>\n",
       "      <th>4</th>\n",
       "      <td>9237-HQITU</td>\n",
       "      <td>Female</td>\n",
       "      <td>0</td>\n",
       "      <td>No</td>\n",
       "      <td>No</td>\n",
       "      <td>2</td>\n",
       "      <td>Yes</td>\n",
       "      <td>No</td>\n",
       "      <td>Fiber optic</td>\n",
       "      <td>No</td>\n",
       "      <td>...</td>\n",
       "      <td>No</td>\n",
       "      <td>No</td>\n",
       "      <td>No</td>\n",
       "      <td>No</td>\n",
       "      <td>Month-to-month</td>\n",
       "      <td>Yes</td>\n",
       "      <td>Electronic check</td>\n",
       "      <td>70.70</td>\n",
       "      <td>151.65</td>\n",
       "      <td>Yes</td>\n",
       "    </tr>\n",
       "  </tbody>\n",
       "</table>\n",
       "<p>5 rows × 21 columns</p>\n",
       "</div>"
      ],
      "text/plain": [
       "   customerID  gender  SeniorCitizen Partner Dependents  tenure PhoneService  \\\n",
       "0  7590-VHVEG  Female              0     Yes         No       1           No   \n",
       "1  5575-GNVDE    Male              0      No         No      34          Yes   \n",
       "2  3668-QPYBK    Male              0      No         No       2          Yes   \n",
       "3  7795-CFOCW    Male              0      No         No      45           No   \n",
       "4  9237-HQITU  Female              0      No         No       2          Yes   \n",
       "\n",
       "      MultipleLines InternetService OnlineSecurity  ... DeviceProtection  \\\n",
       "0  No phone service             DSL             No  ...               No   \n",
       "1                No             DSL            Yes  ...              Yes   \n",
       "2                No             DSL            Yes  ...               No   \n",
       "3  No phone service             DSL            Yes  ...              Yes   \n",
       "4                No     Fiber optic             No  ...               No   \n",
       "\n",
       "  TechSupport StreamingTV StreamingMovies        Contract PaperlessBilling  \\\n",
       "0          No          No              No  Month-to-month              Yes   \n",
       "1          No          No              No        One year               No   \n",
       "2          No          No              No  Month-to-month              Yes   \n",
       "3         Yes          No              No        One year               No   \n",
       "4          No          No              No  Month-to-month              Yes   \n",
       "\n",
       "               PaymentMethod MonthlyCharges  TotalCharges Churn  \n",
       "0           Electronic check          29.85         29.85    No  \n",
       "1               Mailed check          56.95        1889.5    No  \n",
       "2               Mailed check          53.85        108.15   Yes  \n",
       "3  Bank transfer (automatic)          42.30       1840.75    No  \n",
       "4           Electronic check          70.70        151.65   Yes  \n",
       "\n",
       "[5 rows x 21 columns]"
      ]
     },
     "execution_count": 3,
     "metadata": {},
     "output_type": "execute_result"
    }
   ],
   "source": [
    "data.head()"
   ]
  },
  {
   "cell_type": "code",
   "execution_count": 4,
   "id": "a2b6dab8",
   "metadata": {},
   "outputs": [],
   "source": [
    "# Remove columns that you believe are not relevant.\n",
    "data = data.drop(\"customerID\", axis=1)"
   ]
  },
  {
   "cell_type": "code",
   "execution_count": 5,
   "id": "1388fb9d",
   "metadata": {},
   "outputs": [],
   "source": [
    "# The data type of column `TotalCharges` is an object. However, this should be a float.\n",
    "# If you tryed to turn this entire column into a float using .astype(float), this would not work.\n",
    "# Figure out why this is the case, delete the rows that are throwing an error, and turn this column into a float.\n",
    "\n",
    "problematic_indices = []\n",
    "for idx, row in data.iterrows():\n",
    "    charges = row[\"TotalCharges\"]\n",
    "    try:\n",
    "        float(charges)\n",
    "    except:\n",
    "        problematic_indices.append(idx)\n",
    "        \n",
    "data = data.drop(problematic_indices, axis=0)\n"
   ]
  },
  {
   "cell_type": "code",
   "execution_count": null,
   "id": "ddc9ff0f-36f3-4951-b083-596d253dd0c1",
   "metadata": {},
   "outputs": [],
   "source": [
    "# Show Filter -- as well\n",
    "\n",
    "data[\"TotalCharges\"] = data[\"TotalCharges\"].astype(float)"
   ]
  },
  {
   "cell_type": "code",
   "execution_count": 6,
   "id": "36107780",
   "metadata": {},
   "outputs": [],
   "source": [
    "# One-hot Encode the categorical variables except for `Churn`.\n",
    "def _transform_column_into_dummies(dataframe, name_of_column):\n",
    "    dummies = pd.get_dummies(dataframe[name_of_column], prefix=f\"{name_of_column} = \")\n",
    "    \n",
    "    dataframe = pd.concat([dataframe, dummies], axis=1)\n",
    "    \n",
    "    dataframe = dataframe.drop([name_of_column], axis=1)\n",
    "    \n",
    "    return dataframe\n",
    "\n",
    "for column in data.columns:\n",
    "    if column == \"Churn\":\n",
    "        continue\n",
    "    elif data[column].dtype == object:\n",
    "        data = _transform_column_into_dummies(data, column)\n",
    "    "
   ]
  },
  {
   "cell_type": "code",
   "execution_count": 7,
   "id": "4c280398",
   "metadata": {},
   "outputs": [],
   "source": [
    "# For the `Churn` column, transform a value of No to 0 and a value of Yes to 1\n",
    "# Ex: If data.iloc[0][\"Churn\"] is \"No\", turn this value into a 0.\n",
    "\n",
    "data[\"Churn\"] = data[\"Churn\"].replace(\"No\", 0)\n",
    "data[\"Churn\"] = data[\"Churn\"].replace(\"Yes\", 1)\n",
    "data[\"Churn\"] = data[\"Churn\"].astype(int)"
   ]
  },
  {
   "cell_type": "code",
   "execution_count": 8,
   "id": "91f40185",
   "metadata": {},
   "outputs": [],
   "source": [
    "# Split the dataset into a singular training/testing split using a random_state of 42 and using \"Churn\" as the target.\n",
    "from sklearn.model_selection import train_test_split\n",
    "\n",
    "X = data.drop(\"Churn\", axis=1)\n",
    "y = data[\"Churn\"]\n",
    "\n",
    "X_train, X_test, y_train, y_test = train_test_split(X, y, test_size=0.2, random_state=42)"
   ]
  },
  {
   "cell_type": "code",
   "execution_count": 9,
   "id": "db7fbe7f",
   "metadata": {},
   "outputs": [
    {
     "name": "stdout",
     "output_type": "stream",
     "text": [
      "F1-Score: 0.5605839416058395\n"
     ]
    }
   ],
   "source": [
    "# Train your model, predict on the test set, and get the F1-Score (feel free to use the scikit-learn f1-score metric).\n",
    "from sklearn.linear_model import LogisticRegression\n",
    "from sklearn.metrics import f1_score\n",
    "\n",
    "lr = LogisticRegression(max_iter=200)\n",
    "lr.fit(X_train, y_train)\n",
    "preds = lr.predict(X_test)\n",
    "single_f1 = f1_score(y_test, preds)\n",
    "print(f\"F1-Score: {single_f1}\")"
   ]
  },
  {
   "cell_type": "code",
   "execution_count": 10,
   "id": "4cf9a69d",
   "metadata": {},
   "outputs": [],
   "source": [
    "# Define a K-fold CV class with the number of folds being 5, random state of 42, and shuffle being True.\n",
    "from sklearn.model_selection import KFold\n",
    "\n",
    "num_folds = 5\n",
    "random_seed = 42\n",
    "\n",
    "kfold = KFold(\n",
    "    n_splits=num_folds,\n",
    "    random_state=random_seed,\n",
    "    shuffle=True\n",
    ")"
   ]
  },
  {
   "cell_type": "code",
   "execution_count": 11,
   "id": "d0396701",
   "metadata": {},
   "outputs": [],
   "source": [
    "# Define a new Logistic Regression Model and define the X and Y's.\n",
    "X = data.drop(\"Churn\", axis=1)\n",
    "y = data[\"Churn\"]\n",
    "\n",
    "lr = LogisticRegression(max_iter=300)"
   ]
  },
  {
   "cell_type": "code",
   "execution_count": 12,
   "id": "bce7adb6",
   "metadata": {},
   "outputs": [],
   "source": [
    "# For each of the 5 folds, get the F1 Score. Metrics: https://scikit-learn.org/stable/modules/model_evaluation.html\n",
    "# Note: A list (or np.array()) should be returned.\n",
    "from sklearn.model_selection import cross_val_score\n",
    "\n",
    "results = cross_val_score(\n",
    "    lr, X, y, \n",
    "    cv=kfold,\n",
    "    scoring=\"f1\"\n",
    ")"
   ]
  },
  {
   "cell_type": "markdown",
   "id": "1f69a0d1",
   "metadata": {},
   "source": [
    "## Theoretical Question"
   ]
  },
  {
   "cell_type": "markdown",
   "id": "0725ca10",
   "metadata": {},
   "source": [
    "1. Intuitively, what do you think these 5 different scores represent?"
   ]
  },
  {
   "cell_type": "markdown",
   "id": "0b8195ff",
   "metadata": {},
   "source": [
    "The different f1 scores for each fold."
   ]
  },
  {
   "cell_type": "markdown",
   "id": "510bdb2e",
   "metadata": {},
   "source": [
    "2. With this cross-validated model, say that someone asks you for a single F1-Score. What would you respond with?"
   ]
  },
  {
   "cell_type": "markdown",
   "id": "5efbaadf",
   "metadata": {},
   "source": [
    "The mean of the F1-Scores."
   ]
  },
  {
   "cell_type": "code",
   "execution_count": 13,
   "id": "acccb9a6",
   "metadata": {},
   "outputs": [
    {
     "name": "stdout",
     "output_type": "stream",
     "text": [
      "My CV score: 0.5930809647073727\n"
     ]
    }
   ],
   "source": [
    "## Challenge: Without using Scikit-Learn's cross validation function, can you create your own?\n",
    "# Note: The random library may be helpful depending on your implementation.\n",
    "\n",
    "import random\n",
    "import numpy as np\n",
    "\n",
    "num_folds = 5\n",
    "\n",
    "for idx, row in data.iterrows():\n",
    "    data.loc[idx, \"fold\"] = random.randint(0, num_folds)\n",
    "    \n",
    "f1_scores = []\n",
    "for fold in range(num_folds):\n",
    "    \n",
    "    testing_set = data[data[\"fold\"] == fold]\n",
    "    training_set = data[data[\"fold\"] != fold]\n",
    "    \n",
    "    X_train = training_set.drop(\"Churn\", axis=1)\n",
    "    y_train = training_set[\"Churn\"]\n",
    "    \n",
    "    X_test = testing_set.drop(\"Churn\", axis=1)\n",
    "    y_test = testing_set[\"Churn\"]\n",
    "    \n",
    "    lr = LogisticRegression(max_iter=300)\n",
    "    lr.fit(X_train, y_train)\n",
    "    preds = lr.predict(X_test)\n",
    "    curr_f1_score = f1_score(y_test, preds)\n",
    "    f1_scores.append(curr_f1_score)\n",
    "\n",
    "print(f\"My CV score: {np.mean(f1_scores)}\")"
   ]
  },
  {
   "cell_type": "code",
   "execution_count": null,
   "id": "a8ffa1c2",
   "metadata": {},
   "outputs": [],
   "source": []
  }
 ],
 "metadata": {
  "kernelspec": {
   "display_name": "Python 3 (ipykernel)",
   "language": "python",
   "name": "python3"
  },
  "language_info": {
   "codemirror_mode": {
    "name": "ipython",
    "version": 3
   },
   "file_extension": ".py",
   "mimetype": "text/x-python",
   "name": "python",
   "nbconvert_exporter": "python",
   "pygments_lexer": "ipython3",
   "version": "3.11.5"
  }
 },
 "nbformat": 4,
 "nbformat_minor": 5
}
