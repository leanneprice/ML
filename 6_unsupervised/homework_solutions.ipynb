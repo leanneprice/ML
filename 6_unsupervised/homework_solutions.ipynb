{
 "cells": [
  {
   "cell_type": "code",
   "execution_count": 1,
   "id": "8a6c4208",
   "metadata": {},
   "outputs": [],
   "source": [
    "import pandas as pd\n",
    "import numpy as np"
   ]
  },
  {
   "cell_type": "markdown",
   "id": "541ce0b1",
   "metadata": {},
   "source": [
    "# Non-Linear Modeling\n",
    "Here, we're going to learn how to use both Decision Trees and Random Forests using a housing data dataset. Within this dataset, we're going to be using a majority of our given columns in order to predict `price`. However, to refresh some of your data preprocessing skills, I'm not going to preprocess any of the dataset for you and instead, I'm going to leave that up to you! \n",
    "\n",
    "Once we preprocess our model, we'll then train/predict using both of our non-linear methods and also with linear regression to see which model performs best for this specific dataset"
   ]
  },
  {
   "cell_type": "markdown",
   "id": "eb1c3885",
   "metadata": {},
   "source": [
    "### Preprocessing"
   ]
  },
  {
   "cell_type": "code",
   "execution_count": 32,
   "id": "45230c80",
   "metadata": {},
   "outputs": [],
   "source": [
    "# Read in the dataset.\n",
    "data = pd.read_csv(\"./data/housing_data.csv\")"
   ]
  },
  {
   "cell_type": "code",
   "execution_count": 33,
   "id": "31765a00",
   "metadata": {},
   "outputs": [],
   "source": [
    "# Drop the following columns: zipcode, yr_renovated, sqft_basement, condition, and grade\n",
    "data = data.drop([\"zipcode\", \"yr_renovated\", \"sqft_basement\", \"condition\", \"grade\"], axis=1)"
   ]
  },
  {
   "cell_type": "code",
   "execution_count": 34,
   "id": "fb1e773e-4f86-4a9d-b26e-537976ce17c1",
   "metadata": {
    "tags": []
   },
   "outputs": [
    {
     "data": {
      "text/html": [
       "<div>\n",
       "<style scoped>\n",
       "    .dataframe tbody tr th:only-of-type {\n",
       "        vertical-align: middle;\n",
       "    }\n",
       "\n",
       "    .dataframe tbody tr th {\n",
       "        vertical-align: top;\n",
       "    }\n",
       "\n",
       "    .dataframe thead th {\n",
       "        text-align: right;\n",
       "    }\n",
       "</style>\n",
       "<table border=\"1\" class=\"dataframe\">\n",
       "  <thead>\n",
       "    <tr style=\"text-align: right;\">\n",
       "      <th></th>\n",
       "      <th>id</th>\n",
       "      <th>date</th>\n",
       "      <th>price</th>\n",
       "      <th>bedrooms</th>\n",
       "      <th>bathrooms</th>\n",
       "      <th>sqft_living</th>\n",
       "      <th>sqft_lot</th>\n",
       "      <th>floors</th>\n",
       "      <th>waterfront</th>\n",
       "      <th>view</th>\n",
       "      <th>sqft_above</th>\n",
       "      <th>yr_built</th>\n",
       "      <th>lat</th>\n",
       "      <th>long</th>\n",
       "      <th>sqft_living15</th>\n",
       "      <th>sqft_lot15</th>\n",
       "    </tr>\n",
       "  </thead>\n",
       "  <tbody>\n",
       "    <tr>\n",
       "      <th>0</th>\n",
       "      <td>7129300520</td>\n",
       "      <td>20141013T000000</td>\n",
       "      <td>221900.0</td>\n",
       "      <td>3</td>\n",
       "      <td>1.00</td>\n",
       "      <td>1180</td>\n",
       "      <td>5650</td>\n",
       "      <td>1.0</td>\n",
       "      <td>0</td>\n",
       "      <td>0</td>\n",
       "      <td>1180</td>\n",
       "      <td>1955</td>\n",
       "      <td>47.5112</td>\n",
       "      <td>-122.257</td>\n",
       "      <td>1340</td>\n",
       "      <td>5650</td>\n",
       "    </tr>\n",
       "    <tr>\n",
       "      <th>1</th>\n",
       "      <td>6414100192</td>\n",
       "      <td>20141209T000000</td>\n",
       "      <td>538000.0</td>\n",
       "      <td>3</td>\n",
       "      <td>2.25</td>\n",
       "      <td>2570</td>\n",
       "      <td>7242</td>\n",
       "      <td>2.0</td>\n",
       "      <td>0</td>\n",
       "      <td>0</td>\n",
       "      <td>2170</td>\n",
       "      <td>1951</td>\n",
       "      <td>47.7210</td>\n",
       "      <td>-122.319</td>\n",
       "      <td>1690</td>\n",
       "      <td>7639</td>\n",
       "    </tr>\n",
       "    <tr>\n",
       "      <th>2</th>\n",
       "      <td>5631500400</td>\n",
       "      <td>20150225T000000</td>\n",
       "      <td>180000.0</td>\n",
       "      <td>2</td>\n",
       "      <td>1.00</td>\n",
       "      <td>770</td>\n",
       "      <td>10000</td>\n",
       "      <td>1.0</td>\n",
       "      <td>0</td>\n",
       "      <td>0</td>\n",
       "      <td>770</td>\n",
       "      <td>1933</td>\n",
       "      <td>47.7379</td>\n",
       "      <td>-122.233</td>\n",
       "      <td>2720</td>\n",
       "      <td>8062</td>\n",
       "    </tr>\n",
       "    <tr>\n",
       "      <th>3</th>\n",
       "      <td>2487200875</td>\n",
       "      <td>20141209T000000</td>\n",
       "      <td>604000.0</td>\n",
       "      <td>4</td>\n",
       "      <td>3.00</td>\n",
       "      <td>1960</td>\n",
       "      <td>5000</td>\n",
       "      <td>1.0</td>\n",
       "      <td>0</td>\n",
       "      <td>0</td>\n",
       "      <td>1050</td>\n",
       "      <td>1965</td>\n",
       "      <td>47.5208</td>\n",
       "      <td>-122.393</td>\n",
       "      <td>1360</td>\n",
       "      <td>5000</td>\n",
       "    </tr>\n",
       "    <tr>\n",
       "      <th>4</th>\n",
       "      <td>1954400510</td>\n",
       "      <td>20150218T000000</td>\n",
       "      <td>510000.0</td>\n",
       "      <td>3</td>\n",
       "      <td>2.00</td>\n",
       "      <td>1680</td>\n",
       "      <td>8080</td>\n",
       "      <td>1.0</td>\n",
       "      <td>0</td>\n",
       "      <td>0</td>\n",
       "      <td>1680</td>\n",
       "      <td>1987</td>\n",
       "      <td>47.6168</td>\n",
       "      <td>-122.045</td>\n",
       "      <td>1800</td>\n",
       "      <td>7503</td>\n",
       "    </tr>\n",
       "  </tbody>\n",
       "</table>\n",
       "</div>"
      ],
      "text/plain": [
       "           id             date     price  bedrooms  bathrooms  sqft_living  \\\n",
       "0  7129300520  20141013T000000  221900.0         3       1.00         1180   \n",
       "1  6414100192  20141209T000000  538000.0         3       2.25         2570   \n",
       "2  5631500400  20150225T000000  180000.0         2       1.00          770   \n",
       "3  2487200875  20141209T000000  604000.0         4       3.00         1960   \n",
       "4  1954400510  20150218T000000  510000.0         3       2.00         1680   \n",
       "\n",
       "   sqft_lot  floors  waterfront  view  sqft_above  yr_built      lat     long  \\\n",
       "0      5650     1.0           0     0        1180      1955  47.5112 -122.257   \n",
       "1      7242     2.0           0     0        2170      1951  47.7210 -122.319   \n",
       "2     10000     1.0           0     0         770      1933  47.7379 -122.233   \n",
       "3      5000     1.0           0     0        1050      1965  47.5208 -122.393   \n",
       "4      8080     1.0           0     0        1680      1987  47.6168 -122.045   \n",
       "\n",
       "   sqft_living15  sqft_lot15  \n",
       "0           1340        5650  \n",
       "1           1690        7639  \n",
       "2           2720        8062  \n",
       "3           1360        5000  \n",
       "4           1800        7503  "
      ]
     },
     "execution_count": 34,
     "metadata": {},
     "output_type": "execute_result"
    }
   ],
   "source": [
    "data.head()"
   ]
  },
  {
   "cell_type": "code",
   "execution_count": 35,
   "id": "5c411b75",
   "metadata": {},
   "outputs": [],
   "source": [
    "# Are there any other columns that you should drop?\n",
    "data = data.drop(\"id\", axis=1)"
   ]
  },
  {
   "cell_type": "code",
   "execution_count": 36,
   "id": "6945e73d-7797-4b00-9935-e3beb89d4b2e",
   "metadata": {
    "tags": []
   },
   "outputs": [
    {
     "data": {
      "text/plain": [
       "0    20141013T000000\n",
       "1    20141209T000000\n",
       "2    20150225T000000\n",
       "3    20141209T000000\n",
       "4    20150218T000000\n",
       "Name: date, dtype: object"
      ]
     },
     "execution_count": 36,
     "metadata": {},
     "output_type": "execute_result"
    }
   ],
   "source": [
    "data.date.head()"
   ]
  },
  {
   "cell_type": "code",
   "execution_count": 37,
   "id": "117bc354",
   "metadata": {},
   "outputs": [
    {
     "data": {
      "text/plain": [
       "0    20141013\n",
       "1    20141209\n",
       "2    20150225\n",
       "3    20141209\n",
       "4    20150218\n",
       "Name: date, dtype: object"
      ]
     },
     "execution_count": 37,
     "metadata": {},
     "output_type": "execute_result"
    }
   ],
   "source": [
    "# Preprocess the date column to be the following format: dd.mm.yyyy\n",
    "# Ex: The date `20141013T000000` corresponds to `13.10.2014`\n",
    "\n",
    "data[\"date\"] = data[\"date\"].str.replace(\"T000000\", \"\")\n",
    "\n",
    "data.date.head()"
   ]
  },
  {
   "cell_type": "code",
   "execution_count": 38,
   "id": "afbfa696-d24c-4fc3-a049-1c337bc2149a",
   "metadata": {
    "tags": []
   },
   "outputs": [],
   "source": [
    "#data.dtypes"
   ]
  },
  {
   "cell_type": "code",
   "execution_count": 39,
   "id": "b2a36f53-519b-419a-8714-cda55e535990",
   "metadata": {
    "tags": []
   },
   "outputs": [],
   "source": [
    "# Convert to datetime\n",
    "data[\"date\"] = pd.to_datetime(data[\"date\"], format=\"%Y%m%d\")"
   ]
  },
  {
   "cell_type": "code",
   "execution_count": 40,
   "id": "594de74b-2a1e-40f1-9c6f-984d182df85a",
   "metadata": {
    "tags": []
   },
   "outputs": [],
   "source": [
    "#data.dtypes"
   ]
  },
  {
   "cell_type": "code",
   "execution_count": 41,
   "id": "ffce9ec8-0f68-4b04-9efd-7a94c254a1be",
   "metadata": {
    "tags": []
   },
   "outputs": [],
   "source": [
    "# Convert to text wi§th the format dd-mm-yyyy\n",
    "data[\"date\"] = data[\"date\"].dt.strftime(\"%d.%m.%Y\") # string "
   ]
  },
  {
   "cell_type": "code",
   "execution_count": 43,
   "id": "f923a93a",
   "metadata": {},
   "outputs": [],
   "source": [
    "# Check if there are any missing values. If so, delete these rows.\n",
    "data = data.dropna(axis=0)"
   ]
  },
  {
   "cell_type": "code",
   "execution_count": 44,
   "id": "109068f3-a1f5-450a-89f7-2e544eca886e",
   "metadata": {
    "tags": []
   },
   "outputs": [
    {
     "data": {
      "text/html": [
       "<div>\n",
       "<style scoped>\n",
       "    .dataframe tbody tr th:only-of-type {\n",
       "        vertical-align: middle;\n",
       "    }\n",
       "\n",
       "    .dataframe tbody tr th {\n",
       "        vertical-align: top;\n",
       "    }\n",
       "\n",
       "    .dataframe thead th {\n",
       "        text-align: right;\n",
       "    }\n",
       "</style>\n",
       "<table border=\"1\" class=\"dataframe\">\n",
       "  <thead>\n",
       "    <tr style=\"text-align: right;\">\n",
       "      <th></th>\n",
       "      <th>date</th>\n",
       "      <th>price</th>\n",
       "      <th>bedrooms</th>\n",
       "      <th>bathrooms</th>\n",
       "      <th>sqft_living</th>\n",
       "      <th>sqft_lot</th>\n",
       "      <th>floors</th>\n",
       "      <th>waterfront</th>\n",
       "      <th>view</th>\n",
       "      <th>sqft_above</th>\n",
       "      <th>yr_built</th>\n",
       "      <th>lat</th>\n",
       "      <th>long</th>\n",
       "      <th>sqft_living15</th>\n",
       "      <th>sqft_lot15</th>\n",
       "    </tr>\n",
       "  </thead>\n",
       "  <tbody>\n",
       "    <tr>\n",
       "      <th>0</th>\n",
       "      <td>13.10.2014</td>\n",
       "      <td>221900.0</td>\n",
       "      <td>3</td>\n",
       "      <td>1.00</td>\n",
       "      <td>1180</td>\n",
       "      <td>5650</td>\n",
       "      <td>1.0</td>\n",
       "      <td>0</td>\n",
       "      <td>0</td>\n",
       "      <td>1180</td>\n",
       "      <td>1955</td>\n",
       "      <td>47.5112</td>\n",
       "      <td>-122.257</td>\n",
       "      <td>1340</td>\n",
       "      <td>5650</td>\n",
       "    </tr>\n",
       "    <tr>\n",
       "      <th>1</th>\n",
       "      <td>09.12.2014</td>\n",
       "      <td>538000.0</td>\n",
       "      <td>3</td>\n",
       "      <td>2.25</td>\n",
       "      <td>2570</td>\n",
       "      <td>7242</td>\n",
       "      <td>2.0</td>\n",
       "      <td>0</td>\n",
       "      <td>0</td>\n",
       "      <td>2170</td>\n",
       "      <td>1951</td>\n",
       "      <td>47.7210</td>\n",
       "      <td>-122.319</td>\n",
       "      <td>1690</td>\n",
       "      <td>7639</td>\n",
       "    </tr>\n",
       "    <tr>\n",
       "      <th>2</th>\n",
       "      <td>25.02.2015</td>\n",
       "      <td>180000.0</td>\n",
       "      <td>2</td>\n",
       "      <td>1.00</td>\n",
       "      <td>770</td>\n",
       "      <td>10000</td>\n",
       "      <td>1.0</td>\n",
       "      <td>0</td>\n",
       "      <td>0</td>\n",
       "      <td>770</td>\n",
       "      <td>1933</td>\n",
       "      <td>47.7379</td>\n",
       "      <td>-122.233</td>\n",
       "      <td>2720</td>\n",
       "      <td>8062</td>\n",
       "    </tr>\n",
       "    <tr>\n",
       "      <th>3</th>\n",
       "      <td>09.12.2014</td>\n",
       "      <td>604000.0</td>\n",
       "      <td>4</td>\n",
       "      <td>3.00</td>\n",
       "      <td>1960</td>\n",
       "      <td>5000</td>\n",
       "      <td>1.0</td>\n",
       "      <td>0</td>\n",
       "      <td>0</td>\n",
       "      <td>1050</td>\n",
       "      <td>1965</td>\n",
       "      <td>47.5208</td>\n",
       "      <td>-122.393</td>\n",
       "      <td>1360</td>\n",
       "      <td>5000</td>\n",
       "    </tr>\n",
       "    <tr>\n",
       "      <th>4</th>\n",
       "      <td>18.02.2015</td>\n",
       "      <td>510000.0</td>\n",
       "      <td>3</td>\n",
       "      <td>2.00</td>\n",
       "      <td>1680</td>\n",
       "      <td>8080</td>\n",
       "      <td>1.0</td>\n",
       "      <td>0</td>\n",
       "      <td>0</td>\n",
       "      <td>1680</td>\n",
       "      <td>1987</td>\n",
       "      <td>47.6168</td>\n",
       "      <td>-122.045</td>\n",
       "      <td>1800</td>\n",
       "      <td>7503</td>\n",
       "    </tr>\n",
       "  </tbody>\n",
       "</table>\n",
       "</div>"
      ],
      "text/plain": [
       "         date     price  bedrooms  bathrooms  sqft_living  sqft_lot  floors  \\\n",
       "0  13.10.2014  221900.0         3       1.00         1180      5650     1.0   \n",
       "1  09.12.2014  538000.0         3       2.25         2570      7242     2.0   \n",
       "2  25.02.2015  180000.0         2       1.00          770     10000     1.0   \n",
       "3  09.12.2014  604000.0         4       3.00         1960      5000     1.0   \n",
       "4  18.02.2015  510000.0         3       2.00         1680      8080     1.0   \n",
       "\n",
       "   waterfront  view  sqft_above  yr_built      lat     long  sqft_living15  \\\n",
       "0           0     0        1180      1955  47.5112 -122.257           1340   \n",
       "1           0     0        2170      1951  47.7210 -122.319           1690   \n",
       "2           0     0         770      1933  47.7379 -122.233           2720   \n",
       "3           0     0        1050      1965  47.5208 -122.393           1360   \n",
       "4           0     0        1680      1987  47.6168 -122.045           1800   \n",
       "\n",
       "   sqft_lot15  \n",
       "0        5650  \n",
       "1        7639  \n",
       "2        8062  \n",
       "3        5000  \n",
       "4        7503  "
      ]
     },
     "execution_count": 44,
     "metadata": {},
     "output_type": "execute_result"
    }
   ],
   "source": [
    "data.head()"
   ]
  },
  {
   "cell_type": "markdown",
   "id": "344b6c8c",
   "metadata": {},
   "source": [
    "### Modeling"
   ]
  },
  {
   "cell_type": "code",
   "execution_count": 45,
   "id": "84607dad",
   "metadata": {},
   "outputs": [],
   "source": [
    "from sklearn.model_selection import train_test_split\n",
    "\n",
    "# Do not use date, lat or long within your training variables.\n",
    "X = data.drop([\"date\", \"lat\", \"long\", \"price\"], axis=1)\n",
    "\n",
    "# Using price as the target variable\n",
    "y = data[\"price\"]\n",
    "\n",
    "# Split your dataset into a 80/20 training/testing split with a random state of 42.\n",
    "X_train, X_test, y_train, y_test = train_test_split(X, y, test_size=0.2, random_state=42)"
   ]
  },
  {
   "cell_type": "code",
   "execution_count": 46,
   "id": "38611fc7",
   "metadata": {},
   "outputs": [],
   "source": [
    "# Using a linear regression model, come up with predictions on the testing set.\n",
    "from sklearn.linear_model import LinearRegression\n",
    "\n",
    "lr = LinearRegression()\n",
    "lr.fit(X_train, y_train)\n",
    "lr_preds = lr.predict(X_test)"
   ]
  },
  {
   "cell_type": "code",
   "execution_count": 47,
   "id": "b72e2a53",
   "metadata": {},
   "outputs": [],
   "source": [
    "# Using a decision tree, come up with predictions on the testing set.\n",
    "from sklearn.tree import DecisionTreeRegressor\n",
    "\n",
    "dt = DecisionTreeRegressor()\n",
    "dt.fit(X_train, y_train)\n",
    "dt_preds = dt.predict(X_test)"
   ]
  },
  {
   "cell_type": "code",
   "execution_count": 50,
   "id": "068f2ffc-9e83-4bc5-91f7-a38cb1482e48",
   "metadata": {
    "tags": []
   },
   "outputs": [],
   "source": [
    "#RandomForestRegressor?"
   ]
  },
  {
   "cell_type": "code",
   "execution_count": 48,
   "id": "76124df7",
   "metadata": {},
   "outputs": [],
   "source": [
    "# Using a random forest, come up with predictions on the testing set.\n",
    "from sklearn.ensemble import RandomForestRegressor\n",
    "\n",
    "rf = RandomForestRegressor()\n",
    "rf.fit(X_train, y_train)\n",
    "rf_preds = rf.predict(X_test)"
   ]
  },
  {
   "cell_type": "code",
   "execution_count": 51,
   "id": "09afe083",
   "metadata": {},
   "outputs": [],
   "source": [
    "# Along with the actuals, put the LR, DT, and RF model predictions in a single dataframe.\n",
    "preds_df = pd.DataFrame()\n",
    "preds_df[\"actual\"] = y_test\n",
    "preds_df[\"lr_pred\"] = lr_preds\n",
    "preds_df[\"dt_pred\"] = dt_preds\n",
    "preds_df[\"rf_pred\"] = rf_preds"
   ]
  },
  {
   "cell_type": "code",
   "execution_count": 52,
   "id": "9350d2a5",
   "metadata": {},
   "outputs": [
    {
     "name": "stdout",
     "output_type": "stream",
     "text": [
      "Linear Regression: 0.6077368086073192\n",
      "Decision Tree: 0.44583001303132297\n",
      "Random Forest: 0.6759884034688577\n"
     ]
    }
   ],
   "source": [
    "# Using R^2 as a metric, which algorithm performed the best?\n",
    "\n",
    "from sklearn.metrics import r2_score\n",
    "\n",
    "lr_r2 = r2_score(preds_df[\"actual\"], preds_df[\"lr_pred\"])\n",
    "dt_r2 = r2_score(preds_df[\"actual\"], preds_df[\"dt_pred\"])\n",
    "rf_r2 = r2_score(preds_df[\"actual\"], preds_df[\"rf_pred\"])\n",
    "\n",
    "print(f\"Linear Regression: {lr_r2}\")\n",
    "print(f\"Decision Tree: {dt_r2}\")\n",
    "print(f\"Random Forest: {rf_r2}\")"
   ]
  },
  {
   "cell_type": "code",
   "execution_count": 54,
   "id": "ef853c00",
   "metadata": {},
   "outputs": [
    {
     "data": {
      "image/png": "[encoded data removed]",
      "text/plain": [
       "<Figure size 640x480 with 1 Axes>"
      ]
     },
     "metadata": {},
     "output_type": "display_data"
    }
   ],
   "source": [
    "# For the Random Forest model, use seaborn to print display the feature importance.\n",
    "# Which is by far the most important feature?\n",
    "feat_importances = pd.DataFrame()\n",
    "feat_importances[\"colname\"] = X_train.columns\n",
    "feat_importances[\"importance\"] = rf.feature_importances_\n",
    "\n",
    "import seaborn as sns\n",
    "\n",
    "sns.barplot(\n",
    "    data = feat_importances,\n",
    "    y = \"colname\",\n",
    "    x = \"importance\",\n",
    "    orient = \"h\"\n",
    ");"
   ]
  },
  {
   "cell_type": "markdown",
   "id": "186df4a0",
   "metadata": {},
   "source": [
    "### Challenges"
   ]
  },
  {
   "cell_type": "code",
   "execution_count": 57,
   "id": "30923a64-1d88-4aea-b126-e94b369fcea6",
   "metadata": {
    "tags": []
   },
   "outputs": [],
   "source": [
    "#from sklearn.ensemble import RandomForestClassifier\n",
    "#RandomForestClassifier?"
   ]
  },
  {
   "cell_type": "code",
   "execution_count": 61,
   "id": "d4c4247b-aaf4-48dc-b70f-49d9120cf07f",
   "metadata": {
    "tags": []
   },
   "outputs": [],
   "source": [
    "#RandomForestRegressor?\n",
    "#LinearRegression?"
   ]
  },
  {
   "cell_type": "code",
   "execution_count": 62,
   "id": "efaab637-127b-4984-ab50-b3cc207c218f",
   "metadata": {
    "tags": []
   },
   "outputs": [],
   "source": [
    "from tqdm.notebook import tqdm"
   ]
  },
  {
   "cell_type": "code",
   "execution_count": 63,
   "id": "ba2faa0f",
   "metadata": {},
   "outputs": [
    {
     "name": "stdout",
     "output_type": "stream",
     "text": [
      "1 squared_error\n",
      "1 poisson\n",
      "51 squared_error\n",
      "51 poisson\n"
     ]
    }
   ],
   "source": [
    "# Challenge: By trying different hyperparameters, can you improve upon the R^2 performance for this training/testing split?\n",
    "\n",
    "# 2 Parameters\n",
    "n_estimators = list(range(1, 101, 50))\n",
    "criterions = [\"squared_error\", \"poisson\"]\n",
    "\n",
    "# Initialize the dataframe.\n",
    "tuning_df = pd.DataFrame()\n",
    "counter = 0\n",
    "\n",
    "for n_estimator in n_estimators:\n",
    "    for criterion in criterions:\n",
    "        print(n_estimator, criterion)\n",
    "        rf = RandomForestRegressor(\n",
    "            n_estimators=n_estimator,\n",
    "            criterion=criterion,\n",
    "        )\n",
    "        rf.fit(X_train, y_train)\n",
    "        rf_preds = rf.predict(X_test)\n",
    "        r2 = r2_score(y_test, rf_preds)\n",
    "        tuning_df.loc[counter, \"n_estimator\"] = n_estimator\n",
    "        tuning_df.loc[counter, \"criterion\"] = criterion\n",
    "        tuning_df.loc[counter, \"r2\"] = r2\n",
    "\n",
    "        counter += 1    "
   ]
  },
  {
   "cell_type": "code",
   "execution_count": 65,
   "id": "f1ae7961-ee5d-4e57-9b5a-272ad6e8a9b9",
   "metadata": {
    "tags": []
   },
   "outputs": [
    {
     "data": {
      "text/plain": [
       "[1, 51]"
      ]
     },
     "execution_count": 65,
     "metadata": {},
     "output_type": "execute_result"
    }
   ],
   "source": [
    "n_estimators"
   ]
  },
  {
   "cell_type": "code",
   "execution_count": 64,
   "id": "2ebe45bc-6d82-4eb0-8b6e-ef74e11da009",
   "metadata": {
    "tags": []
   },
   "outputs": [
    {
     "data": {
      "text/html": [
       "<div>\n",
       "<style scoped>\n",
       "    .dataframe tbody tr th:only-of-type {\n",
       "        vertical-align: middle;\n",
       "    }\n",
       "\n",
       "    .dataframe tbody tr th {\n",
       "        vertical-align: top;\n",
       "    }\n",
       "\n",
       "    .dataframe thead th {\n",
       "        text-align: right;\n",
       "    }\n",
       "</style>\n",
       "<table border=\"1\" class=\"dataframe\">\n",
       "  <thead>\n",
       "    <tr style=\"text-align: right;\">\n",
       "      <th></th>\n",
       "      <th>n_estimator</th>\n",
       "      <th>criterion</th>\n",
       "      <th>r2</th>\n",
       "    </tr>\n",
       "  </thead>\n",
       "  <tbody>\n",
       "    <tr>\n",
       "      <th>0</th>\n",
       "      <td>1.0</td>\n",
       "      <td>squared_error</td>\n",
       "      <td>0.441352</td>\n",
       "    </tr>\n",
       "    <tr>\n",
       "      <th>1</th>\n",
       "      <td>1.0</td>\n",
       "      <td>poisson</td>\n",
       "      <td>0.387929</td>\n",
       "    </tr>\n",
       "    <tr>\n",
       "      <th>2</th>\n",
       "      <td>51.0</td>\n",
       "      <td>squared_error</td>\n",
       "      <td>0.672402</td>\n",
       "    </tr>\n",
       "    <tr>\n",
       "      <th>3</th>\n",
       "      <td>51.0</td>\n",
       "      <td>poisson</td>\n",
       "      <td>0.664994</td>\n",
       "    </tr>\n",
       "  </tbody>\n",
       "</table>\n",
       "</div>"
      ],
      "text/plain": [
       "   n_estimator      criterion        r2\n",
       "0          1.0  squared_error  0.441352\n",
       "1          1.0        poisson  0.387929\n",
       "2         51.0  squared_error  0.672402\n",
       "3         51.0        poisson  0.664994"
      ]
     },
     "execution_count": 64,
     "metadata": {},
     "output_type": "execute_result"
    }
   ],
   "source": [
    "tuning_df"
   ]
  },
  {
   "cell_type": "code",
   "execution_count": 66,
   "id": "4ec6a9b8-fe7c-45ac-a0ce-26258659bf08",
   "metadata": {
    "tags": []
   },
   "outputs": [
    {
     "name": "stdout",
     "output_type": "stream",
     "text": [
      "train_r2 = 0.960519660080251\n",
      "test_r2 = 0.6753285660708892\n"
     ]
    }
   ],
   "source": [
    "# EXTRA - HYPERPARAMETER TUNNING USING GridSEARCH\n",
    "# https://scikit-learn.org/stable/modules/grid_search.html\n",
    "\n",
    "# Build ONE model without hyperparameter tunning\n",
    "model = RandomForestRegressor() \n",
    "model.fit(X_train, y_train) \n",
    "  \n",
    "# predict the mode \n",
    "y_pred = model.predict(X_test) \n",
    "  \n",
    "\n",
    "train_pred_y = model.predict(X_train)\n",
    "test_pred_y = model.predict(X_test)\n",
    "\n",
    "print(f\"train_r2 = {r2_score(y_train, train_pred_y)}\")\n",
    "print(f\"test_r2 = {r2_score(y_test, test_pred_y)}\")"
   ]
  },
  {
   "cell_type": "code",
   "execution_count": 67,
   "id": "52791c9d-014c-4599-9d49-4a9b862e6c8e",
   "metadata": {
    "tags": []
   },
   "outputs": [
    {
     "name": "stdout",
     "output_type": "stream",
     "text": [
      "RandomForestRegressor(max_depth=50, max_features=6)\n"
     ]
    }
   ],
   "source": [
    "from sklearn.model_selection import GridSearchCV #, RandomizedSearchCV \n",
    "param_grid = {\n",
    "    #\"n_estimators\":[100,200,300],\n",
    "    #\"max_depth\":[10, 50, 100],\n",
    "    #\"max_features\":[6,8,10,12,14,16]\n",
    "    \"n_estimators\":[10, 20, 100],\n",
    "    \"max_depth\":[10, 50],\n",
    "    \"max_features\":[6,8,10]\n",
    "}\n",
    "\n",
    "grid_search = GridSearchCV(\n",
    "    estimator=RandomForestRegressor(),\n",
    "    param_grid=param_grid\n",
    ")\n",
    "\n",
    "grid_search.fit(X_train, y_train) \n",
    "print(grid_search.best_estimator_)"
   ]
  },
  {
   "cell_type": "code",
   "execution_count": null,
   "id": "dade6bc9",
   "metadata": {},
   "outputs": [],
   "source": [
    "# Challenge: Using a decision tree with a max_leaf_nodes of 3, plot the decision tree. Do you know how to interpret this?\n",
    "from sklearn import tree\n",
    "\n",
    "dt = DecisionTreeRegressor(max_leaf_nodes=3)\n",
    "dt.fit(X_train, y_train)\n",
    "tree.plot_tree(dt)"
   ]
  },
  {
   "cell_type": "code",
   "execution_count": 68,
   "id": "9ec19be7",
   "metadata": {},
   "outputs": [
    {
     "name": "stdout",
     "output_type": "stream",
     "text": [
      "Working on LR...\n",
      "Working on DT...\n",
      "Working on RF...\n"
     ]
    }
   ],
   "source": [
    "# Challenge: The R^2 scores we found only correspond to this particular training and testing split.\n",
    "# What is an appropriate way to obtain more general results for each of the 3 algorithms? \n",
    "# Once you think of the answer, do this for each of the algorithms and come up with the average answer.\n",
    "# Now, does your current result match up with what we previously came up with?\n",
    "\n",
    "from sklearn.model_selection import KFold\n",
    "from sklearn.model_selection import cross_val_score\n",
    "\n",
    "\n",
    "num_folds = 5\n",
    "random_seed = 42\n",
    "\n",
    "kfold = KFold(\n",
    "    n_splits=num_folds,\n",
    "    random_state=random_seed,\n",
    "    shuffle=True\n",
    ")\n",
    "print('Working on LR...')\n",
    "lr = LinearRegression()\n",
    "# Generalizing well, if you were not \"lucky/unlucky\" on your test data\n",
    "lr_cv_results = cross_val_score(\n",
    "    lr, X, y, \n",
    "    cv=kfold,\n",
    "    scoring=\"r2\"\n",
    ")\n",
    "print('Working on DT...')\n",
    "dt = DecisionTreeRegressor()\n",
    "dt_cv_results = cross_val_score(\n",
    "    dt, X, y, \n",
    "    cv=kfold,\n",
    "    scoring=\"r2\"\n",
    ")\n",
    "\n",
    "print('Working on RF...')\n",
    "rf = RandomForestRegressor()\n",
    "rf_cv_results = cross_val_score(\n",
    "    rf, X, y, \n",
    "    cv=kfold,\n",
    "    scoring=\"r2\"\n",
    ")"
   ]
  },
  {
   "cell_type": "code",
   "execution_count": 74,
   "id": "6743392c",
   "metadata": {},
   "outputs": [
    {
     "name": "stdout",
     "output_type": "stream",
     "text": [
      "LR 5-fold CV Results: (0.6056743936648576, 0.004862174830063005)\n",
      "DT 5-fold CV Results: (0.45502704049831894, 0.004862174830063005)\n",
      "RF 5-fold CV Results: (0.7153185938685314, 0.004862174830063005)\n"
     ]
    }
   ],
   "source": [
    "print(f\"LR 5-fold CV Results: {np.mean(lr_cv_results), np.std(lr_cv_results)}\")\n",
    "print(f\"DT 5-fold CV Results: {np.mean(dt_cv_results), np.std(lr_cv_results)}\")\n",
    "print(f\"RF 5-fold CV Results: {np.mean(rf_cv_results), np.std(lr_cv_results)}\")"
   ]
  },
  {
   "cell_type": "markdown",
   "id": "cc35eb46",
   "metadata": {},
   "source": [
    "# Let's do some math to \"prove\" that ensembles work!\n"
   ]
  },
  {
   "cell_type": "markdown",
   "id": "74ddde58",
   "metadata": {},
   "source": [
    "Let's say that we have 5 different models with the following probabilities of being correct in a binary classification sense:\n",
    "- Model 1: 0.63\n",
    "- Model 2: 0.61\n",
    "- Model 3: 0.65\n",
    "\n",
    "\n",
    "If we were to use majority voting (i.e. if at least 2 of 3 predict one class, the final ensemble prediction will be that class), what's the probability that we get our prediction correct?\n",
    "\n",
    "Hint: Calculate the probability of 0 being correct, the probability of 1 being correct, the probability of 2 being correct, and the probability of getting all correct. "
   ]
  },
  {
   "cell_type": "code",
   "execution_count": 75,
   "id": "189fc71b",
   "metadata": {
    "tags": []
   },
   "outputs": [
    {
     "name": "stdout",
     "output_type": "stream",
     "text": [
      "Probability of our final prediction being correct: 0.6907099999999999\n"
     ]
    }
   ],
   "source": [
    "# Probability of 0 correct:\n",
    "p0 = (1 - 0.63) * (1 - 0.61) * (1 - 0.65)\n",
    "\n",
    "# Probability of 1 correct:\n",
    "p1 = ((0.63) * (1 - 0.61) * (1 - 0.65)) + \\\n",
    "    ((1 - 0.63) * (0.61) * (1 - 0.65)) + \\\n",
    "    ((1 - 0.63) * (1 - 0.61) * (0.65))\n",
    "\n",
    "# Probability of 2+ correct:\n",
    "p2_and_p3 = 1 - p0 - p1\n",
    "\n",
    "# Probability of our final prediction being correct:\n",
    "print(f\"Probability of our final prediction being correct: {p2_and_p3}\")"
   ]
  },
  {
   "cell_type": "code",
   "execution_count": null,
   "id": "65576881-c07e-4f14-ba4e-54afe2a04e8d",
   "metadata": {},
   "outputs": [],
   "source": []
  }
 ],
 "metadata": {
  "kernelspec": {
   "display_name": "Python 3 (ipykernel)",
   "language": "python",
   "name": "python3"
  },
  "language_info": {
   "codemirror_mode": {
    "name": "ipython",
    "version": 3
   },
   "file_extension": ".py",
   "mimetype": "text/x-python",
   "name": "python",
   "nbconvert_exporter": "python",
   "pygments_lexer": "ipython3",
   "version": "3.11.5"
  }
 },
 "nbformat": 4,
 "nbformat_minor": 5
}
