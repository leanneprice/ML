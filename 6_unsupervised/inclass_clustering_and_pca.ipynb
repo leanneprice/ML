{
 "cells": [
  {
   "cell_type": "code",
   "execution_count": 1,
   "id": "00dd9149",
   "metadata": {},
   "outputs": [],
   "source": [
    "import pandas as pd\n",
    "import numpy as np"
   ]
  },
  {
   "cell_type": "code",
   "execution_count": 2,
   "id": "aa6b5763",
   "metadata": {},
   "outputs": [
    {
     "data": {
      "text/html": [
       "<div>\n",
       "<style scoped>\n",
       "    .dataframe tbody tr th:only-of-type {\n",
       "        vertical-align: middle;\n",
       "    }\n",
       "\n",
       "    .dataframe tbody tr th {\n",
       "        vertical-align: top;\n",
       "    }\n",
       "\n",
       "    .dataframe thead th {\n",
       "        text-align: right;\n",
       "    }\n",
       "</style>\n",
       "<table border=\"1\" class=\"dataframe\">\n",
       "  <thead>\n",
       "    <tr style=\"text-align: right;\">\n",
       "      <th></th>\n",
       "      <th>sepal_len</th>\n",
       "      <th>sepal_wid</th>\n",
       "      <th>petal_len</th>\n",
       "      <th>petal_wid</th>\n",
       "      <th>class</th>\n",
       "    </tr>\n",
       "  </thead>\n",
       "  <tbody>\n",
       "    <tr>\n",
       "      <th>0</th>\n",
       "      <td>5.1</td>\n",
       "      <td>3.5</td>\n",
       "      <td>1.4</td>\n",
       "      <td>0.2</td>\n",
       "      <td>Iris-setosa</td>\n",
       "    </tr>\n",
       "    <tr>\n",
       "      <th>1</th>\n",
       "      <td>4.9</td>\n",
       "      <td>3.0</td>\n",
       "      <td>1.4</td>\n",
       "      <td>0.2</td>\n",
       "      <td>Iris-setosa</td>\n",
       "    </tr>\n",
       "    <tr>\n",
       "      <th>2</th>\n",
       "      <td>4.7</td>\n",
       "      <td>3.2</td>\n",
       "      <td>1.3</td>\n",
       "      <td>0.2</td>\n",
       "      <td>Iris-setosa</td>\n",
       "    </tr>\n",
       "    <tr>\n",
       "      <th>3</th>\n",
       "      <td>4.6</td>\n",
       "      <td>3.1</td>\n",
       "      <td>1.5</td>\n",
       "      <td>0.2</td>\n",
       "      <td>Iris-setosa</td>\n",
       "    </tr>\n",
       "    <tr>\n",
       "      <th>4</th>\n",
       "      <td>5.0</td>\n",
       "      <td>3.6</td>\n",
       "      <td>1.4</td>\n",
       "      <td>0.2</td>\n",
       "      <td>Iris-setosa</td>\n",
       "    </tr>\n",
       "    <tr>\n",
       "      <th>...</th>\n",
       "      <td>...</td>\n",
       "      <td>...</td>\n",
       "      <td>...</td>\n",
       "      <td>...</td>\n",
       "      <td>...</td>\n",
       "    </tr>\n",
       "    <tr>\n",
       "      <th>145</th>\n",
       "      <td>6.7</td>\n",
       "      <td>3.0</td>\n",
       "      <td>5.2</td>\n",
       "      <td>2.3</td>\n",
       "      <td>Iris-virginica</td>\n",
       "    </tr>\n",
       "    <tr>\n",
       "      <th>146</th>\n",
       "      <td>6.3</td>\n",
       "      <td>2.5</td>\n",
       "      <td>5.0</td>\n",
       "      <td>1.9</td>\n",
       "      <td>Iris-virginica</td>\n",
       "    </tr>\n",
       "    <tr>\n",
       "      <th>147</th>\n",
       "      <td>6.5</td>\n",
       "      <td>3.0</td>\n",
       "      <td>5.2</td>\n",
       "      <td>2.0</td>\n",
       "      <td>Iris-virginica</td>\n",
       "    </tr>\n",
       "    <tr>\n",
       "      <th>148</th>\n",
       "      <td>6.2</td>\n",
       "      <td>3.4</td>\n",
       "      <td>5.4</td>\n",
       "      <td>2.3</td>\n",
       "      <td>Iris-virginica</td>\n",
       "    </tr>\n",
       "    <tr>\n",
       "      <th>149</th>\n",
       "      <td>5.9</td>\n",
       "      <td>3.0</td>\n",
       "      <td>5.1</td>\n",
       "      <td>1.8</td>\n",
       "      <td>Iris-virginica</td>\n",
       "    </tr>\n",
       "  </tbody>\n",
       "</table>\n",
       "<p>150 rows × 5 columns</p>\n",
       "</div>"
      ],
      "text/plain": [
       "     sepal_len  sepal_wid  petal_len  petal_wid           class\n",
       "0          5.1        3.5        1.4        0.2     Iris-setosa\n",
       "1          4.9        3.0        1.4        0.2     Iris-setosa\n",
       "2          4.7        3.2        1.3        0.2     Iris-setosa\n",
       "3          4.6        3.1        1.5        0.2     Iris-setosa\n",
       "4          5.0        3.6        1.4        0.2     Iris-setosa\n",
       "..         ...        ...        ...        ...             ...\n",
       "145        6.7        3.0        5.2        2.3  Iris-virginica\n",
       "146        6.3        2.5        5.0        1.9  Iris-virginica\n",
       "147        6.5        3.0        5.2        2.0  Iris-virginica\n",
       "148        6.2        3.4        5.4        2.3  Iris-virginica\n",
       "149        5.9        3.0        5.1        1.8  Iris-virginica\n",
       "\n",
       "[150 rows x 5 columns]"
      ]
     },
     "execution_count": 2,
     "metadata": {},
     "output_type": "execute_result"
    }
   ],
   "source": [
    "data = pd.read_csv(\n",
    "    filepath_or_buffer='https://archive.ics.uci.edu/ml/machine-learning-databases/iris/iris.data',\n",
    "    header=None,\n",
    "    sep=',')\n",
    "\n",
    "data.columns=['sepal_len', 'sepal_wid', 'petal_len', 'petal_wid', 'class']\n",
    "data.dropna(how=\"all\", inplace=True) # drops the empty line at file-end\n",
    "\n",
    "data"
   ]
  },
  {
   "cell_type": "code",
   "execution_count": 3,
   "id": "0c8ac53c",
   "metadata": {},
   "outputs": [
    {
     "data": {
      "text/html": [
       "<div>\n",
       "<style scoped>\n",
       "    .dataframe tbody tr th:only-of-type {\n",
       "        vertical-align: middle;\n",
       "    }\n",
       "\n",
       "    .dataframe tbody tr th {\n",
       "        vertical-align: top;\n",
       "    }\n",
       "\n",
       "    .dataframe thead th {\n",
       "        text-align: right;\n",
       "    }\n",
       "</style>\n",
       "<table border=\"1\" class=\"dataframe\">\n",
       "  <thead>\n",
       "    <tr style=\"text-align: right;\">\n",
       "      <th></th>\n",
       "      <th>sepal_len</th>\n",
       "      <th>sepal_wid</th>\n",
       "      <th>petal_len</th>\n",
       "      <th>petal_wid</th>\n",
       "      <th>class</th>\n",
       "    </tr>\n",
       "  </thead>\n",
       "  <tbody>\n",
       "    <tr>\n",
       "      <th>0</th>\n",
       "      <td>5.1</td>\n",
       "      <td>3.5</td>\n",
       "      <td>1.4</td>\n",
       "      <td>0.2</td>\n",
       "      <td>Iris-setosa</td>\n",
       "    </tr>\n",
       "    <tr>\n",
       "      <th>1</th>\n",
       "      <td>4.9</td>\n",
       "      <td>3.0</td>\n",
       "      <td>1.4</td>\n",
       "      <td>0.2</td>\n",
       "      <td>Iris-setosa</td>\n",
       "    </tr>\n",
       "    <tr>\n",
       "      <th>2</th>\n",
       "      <td>4.7</td>\n",
       "      <td>3.2</td>\n",
       "      <td>1.3</td>\n",
       "      <td>0.2</td>\n",
       "      <td>Iris-setosa</td>\n",
       "    </tr>\n",
       "    <tr>\n",
       "      <th>3</th>\n",
       "      <td>4.6</td>\n",
       "      <td>3.1</td>\n",
       "      <td>1.5</td>\n",
       "      <td>0.2</td>\n",
       "      <td>Iris-setosa</td>\n",
       "    </tr>\n",
       "    <tr>\n",
       "      <th>4</th>\n",
       "      <td>5.0</td>\n",
       "      <td>3.6</td>\n",
       "      <td>1.4</td>\n",
       "      <td>0.2</td>\n",
       "      <td>Iris-setosa</td>\n",
       "    </tr>\n",
       "  </tbody>\n",
       "</table>\n",
       "</div>"
      ],
      "text/plain": [
       "   sepal_len  sepal_wid  petal_len  petal_wid        class\n",
       "0        5.1        3.5        1.4        0.2  Iris-setosa\n",
       "1        4.9        3.0        1.4        0.2  Iris-setosa\n",
       "2        4.7        3.2        1.3        0.2  Iris-setosa\n",
       "3        4.6        3.1        1.5        0.2  Iris-setosa\n",
       "4        5.0        3.6        1.4        0.2  Iris-setosa"
      ]
     },
     "execution_count": 3,
     "metadata": {},
     "output_type": "execute_result"
    }
   ],
   "source": [
    "data.head()"
   ]
  },
  {
   "cell_type": "code",
   "execution_count": 4,
   "id": "4b15d32a-70ed-407b-8f62-b7170932f440",
   "metadata": {},
   "outputs": [
    {
     "data": {
      "text/plain": [
       "class\n",
       "Iris-setosa        50\n",
       "Iris-versicolor    50\n",
       "Iris-virginica     50\n",
       "Name: count, dtype: int64"
      ]
     },
     "execution_count": 4,
     "metadata": {},
     "output_type": "execute_result"
    }
   ],
   "source": [
    "data['class'].value_counts()"
   ]
  },
  {
   "cell_type": "markdown",
   "id": "bbeb6d99",
   "metadata": {},
   "source": [
    "# K-Means Clustering and Hierarchical Clustering"
   ]
  },
  {
   "cell_type": "markdown",
   "id": "1f851fd8",
   "metadata": {},
   "source": [
    "Using sepal_len, sepal_wid, petal_len, and petal_wid, we're going to see how well our two different clustering techniques work. Are we able to find clusters within our dataset that correspond to the actual class value?"
   ]
  },
  {
   "cell_type": "code",
   "execution_count": 3,
   "id": "7d724f33",
   "metadata": {},
   "outputs": [],
   "source": [
    "from sklearn.cluster import KMeans"
   ]
  },
  {
   "cell_type": "code",
   "execution_count": 4,
   "id": "c7bb9c63",
   "metadata": {},
   "outputs": [],
   "source": [
    "X = data.drop(\"class\", axis=1)\n",
    "Y = data[\"class\"]"
   ]
  },
  {
   "cell_type": "code",
   "execution_count": 5,
   "id": "31fe7826",
   "metadata": {},
   "outputs": [
    {
     "name": "stderr",
     "output_type": "stream",
     "text": [
      "/usr/local/lib/python3.11/site-packages/sklearn/cluster/_kmeans.py:1416: FutureWarning: The default value of `n_init` will change from 10 to 'auto' in 1.4. Set the value of `n_init` explicitly to suppress the warning\n",
      "  super()._check_params_vs_input(X, default_n_init=10)\n"
     ]
    },
    {
     "data": {
      "text/html": [
       "<style>#sk-container-id-1 {color: black;}#sk-container-id-1 pre{padding: 0;}#sk-container-id-1 div.sk-toggleable {background-color: white;}#sk-container-id-1 label.sk-toggleable__label {cursor: pointer;display: block;width: 100%;margin-bottom: 0;padding: 0.3em;box-sizing: border-box;text-align: center;}#sk-container-id-1 label.sk-toggleable__label-arrow:before {content: \"▸\";float: left;margin-right: 0.25em;color: #696969;}#sk-container-id-1 label.sk-toggleable__label-arrow:hover:before {color: black;}#sk-container-id-1 div.sk-estimator:hover label.sk-toggleable__label-arrow:before {color: black;}#sk-container-id-1 div.sk-toggleable__content {max-height: 0;max-width: 0;overflow: hidden;text-align: left;background-color: #f0f8ff;}#sk-container-id-1 div.sk-toggleable__content pre {margin: 0.2em;color: black;border-radius: 0.25em;background-color: #f0f8ff;}#sk-container-id-1 input.sk-toggleable__control:checked~div.sk-toggleable__content {max-height: 200px;max-width: 100%;overflow: auto;}#sk-container-id-1 input.sk-toggleable__control:checked~label.sk-toggleable__label-arrow:before {content: \"▾\";}#sk-container-id-1 div.sk-estimator input.sk-toggleable__control:checked~label.sk-toggleable__label {background-color: #d4ebff;}#sk-container-id-1 div.sk-label input.sk-toggleable__control:checked~label.sk-toggleable__label {background-color: #d4ebff;}#sk-container-id-1 input.sk-hidden--visually {border: 0;clip: rect(1px 1px 1px 1px);clip: rect(1px, 1px, 1px, 1px);height: 1px;margin: -1px;overflow: hidden;padding: 0;position: absolute;width: 1px;}#sk-container-id-1 div.sk-estimator {font-family: monospace;background-color: #f0f8ff;border: 1px dotted black;border-radius: 0.25em;box-sizing: border-box;margin-bottom: 0.5em;}#sk-container-id-1 div.sk-estimator:hover {background-color: #d4ebff;}#sk-container-id-1 div.sk-parallel-item::after {content: \"\";width: 100%;border-bottom: 1px solid gray;flex-grow: 1;}#sk-container-id-1 div.sk-label:hover label.sk-toggleable__label {background-color: #d4ebff;}#sk-container-id-1 div.sk-serial::before {content: \"\";position: absolute;border-left: 1px solid gray;box-sizing: border-box;top: 0;bottom: 0;left: 50%;z-index: 0;}#sk-container-id-1 div.sk-serial {display: flex;flex-direction: column;align-items: center;background-color: white;padding-right: 0.2em;padding-left: 0.2em;position: relative;}#sk-container-id-1 div.sk-item {position: relative;z-index: 1;}#sk-container-id-1 div.sk-parallel {display: flex;align-items: stretch;justify-content: center;background-color: white;position: relative;}#sk-container-id-1 div.sk-item::before, #sk-container-id-1 div.sk-parallel-item::before {content: \"\";position: absolute;border-left: 1px solid gray;box-sizing: border-box;top: 0;bottom: 0;left: 50%;z-index: -1;}#sk-container-id-1 div.sk-parallel-item {display: flex;flex-direction: column;z-index: 1;position: relative;background-color: white;}#sk-container-id-1 div.sk-parallel-item:first-child::after {align-self: flex-end;width: 50%;}#sk-container-id-1 div.sk-parallel-item:last-child::after {align-self: flex-start;width: 50%;}#sk-container-id-1 div.sk-parallel-item:only-child::after {width: 0;}#sk-container-id-1 div.sk-dashed-wrapped {border: 1px dashed gray;margin: 0 0.4em 0.5em 0.4em;box-sizing: border-box;padding-bottom: 0.4em;background-color: white;}#sk-container-id-1 div.sk-label label {font-family: monospace;font-weight: bold;display: inline-block;line-height: 1.2em;}#sk-container-id-1 div.sk-label-container {text-align: center;}#sk-container-id-1 div.sk-container {/* jupyter's `normalize.less` sets `[hidden] { display: none; }` but bootstrap.min.css set `[hidden] { display: none !important; }` so we also need the `!important` here to be able to override the default hidden behavior on the sphinx rendered scikit-learn.org. See: https://github.com/scikit-learn/scikit-learn/issues/21755 */display: inline-block !important;position: relative;}#sk-container-id-1 div.sk-text-repr-fallback {display: none;}</style><div id=\"sk-container-id-1\" class=\"sk-top-container\"><div class=\"sk-text-repr-fallback\"><pre>KMeans(n_clusters=3)</pre><b>In a Jupyter environment, please rerun this cell to show the HTML representation or trust the notebook. <br />On GitHub, the HTML representation is unable to render, please try loading this page with nbviewer.org.</b></div><div class=\"sk-container\" hidden><div class=\"sk-item\"><div class=\"sk-estimator sk-toggleable\"><input class=\"sk-toggleable__control sk-hidden--visually\" id=\"sk-estimator-id-1\" type=\"checkbox\" checked><label for=\"sk-estimator-id-1\" class=\"sk-toggleable__label sk-toggleable__label-arrow\">KMeans</label><div class=\"sk-toggleable__content\"><pre>KMeans(n_clusters=3)</pre></div></div></div></div></div>"
      ],
      "text/plain": [
       "KMeans(n_clusters=3)"
      ]
     },
     "execution_count": 5,
     "metadata": {},
     "output_type": "execute_result"
    }
   ],
   "source": [
    "Kmean = KMeans(n_clusters=3)\n",
    "Kmean.fit(X)"
   ]
  },
  {
   "cell_type": "code",
   "execution_count": 6,
   "id": "403dc9a0",
   "metadata": {},
   "outputs": [
    {
     "data": {
      "text/plain": [
       "array([[5.9016129 , 2.7483871 , 4.39354839, 1.43387097],\n",
       "       [5.006     , 3.418     , 1.464     , 0.244     ],\n",
       "       [6.85      , 3.07368421, 5.74210526, 2.07105263]])"
      ]
     },
     "execution_count": 6,
     "metadata": {},
     "output_type": "execute_result"
    }
   ],
   "source": [
    "# View the cluster centers.\n",
    "Kmean.cluster_centers_"
   ]
  },
  {
   "cell_type": "code",
   "execution_count": 7,
   "id": "3a635b05",
   "metadata": {},
   "outputs": [
    {
     "data": {
      "text/plain": [
       "array([1, 1, 1, 1, 1, 1, 1, 1, 1, 1, 1, 1, 1, 1, 1, 1, 1, 1, 1, 1, 1, 1,\n",
       "       1, 1, 1, 1, 1, 1, 1, 1, 1, 1, 1, 1, 1, 1, 1, 1, 1, 1, 1, 1, 1, 1,\n",
       "       1, 1, 1, 1, 1, 1, 0, 0, 2, 0, 0, 0, 0, 0, 0, 0, 0, 0, 0, 0, 0, 0,\n",
       "       0, 0, 0, 0, 0, 0, 0, 0, 0, 0, 0, 2, 0, 0, 0, 0, 0, 0, 0, 0, 0, 0,\n",
       "       0, 0, 0, 0, 0, 0, 0, 0, 0, 0, 0, 0, 2, 0, 2, 2, 2, 2, 0, 2, 2, 2,\n",
       "       2, 2, 2, 0, 0, 2, 2, 2, 2, 0, 2, 0, 2, 0, 2, 2, 0, 0, 2, 2, 2, 2,\n",
       "       2, 0, 2, 2, 2, 2, 0, 2, 2, 2, 0, 2, 2, 2, 0, 2, 2, 0], dtype=int32)"
      ]
     },
     "execution_count": 7,
     "metadata": {},
     "output_type": "execute_result"
    }
   ],
   "source": [
    "# View what classes belong to what.\n",
    "Kmean.labels_"
   ]
  },
  {
   "cell_type": "markdown",
   "id": "581176f5",
   "metadata": {},
   "source": [
    "If we were to view the clustered classes and their actual classes, could we find a pattern?"
   ]
  },
  {
   "cell_type": "code",
   "execution_count": 10,
   "id": "68a46f84",
   "metadata": {
    "scrolled": true
   },
   "outputs": [
    {
     "name": "stdout",
     "output_type": "stream",
     "text": [
      "Iris-setosa 0\n",
      "Iris-setosa 0\n",
      "Iris-setosa 0\n",
      "Iris-setosa 0\n",
      "Iris-setosa 0\n",
      "Iris-setosa 0\n",
      "Iris-setosa 0\n",
      "Iris-setosa 0\n",
      "Iris-setosa 0\n",
      "Iris-setosa 0\n",
      "Iris-setosa 0\n",
      "Iris-setosa 0\n",
      "Iris-setosa 0\n",
      "Iris-setosa 0\n",
      "Iris-setosa 0\n",
      "Iris-setosa 0\n",
      "Iris-setosa 0\n",
      "Iris-setosa 0\n",
      "Iris-setosa 0\n",
      "Iris-setosa 0\n",
      "Iris-setosa 0\n",
      "Iris-setosa 0\n",
      "Iris-setosa 0\n",
      "Iris-setosa 0\n",
      "Iris-setosa 0\n",
      "Iris-setosa 0\n",
      "Iris-setosa 0\n",
      "Iris-setosa 0\n",
      "Iris-setosa 0\n",
      "Iris-setosa 0\n",
      "Iris-setosa 0\n",
      "Iris-setosa 0\n",
      "Iris-setosa 0\n",
      "Iris-setosa 0\n",
      "Iris-setosa 0\n",
      "Iris-setosa 0\n",
      "Iris-setosa 0\n",
      "Iris-setosa 0\n",
      "Iris-setosa 0\n",
      "Iris-setosa 0\n",
      "Iris-setosa 0\n",
      "Iris-setosa 0\n",
      "Iris-setosa 0\n",
      "Iris-setosa 0\n",
      "Iris-setosa 0\n",
      "Iris-setosa 0\n",
      "Iris-setosa 0\n",
      "Iris-setosa 0\n",
      "Iris-setosa 0\n",
      "Iris-setosa 0\n",
      "Iris-versicolor 2\n",
      "Iris-versicolor 2\n",
      "Iris-versicolor 1\n",
      "Iris-versicolor 2\n",
      "Iris-versicolor 2\n",
      "Iris-versicolor 2\n",
      "Iris-versicolor 2\n",
      "Iris-versicolor 2\n",
      "Iris-versicolor 2\n",
      "Iris-versicolor 2\n",
      "Iris-versicolor 2\n",
      "Iris-versicolor 2\n",
      "Iris-versicolor 2\n",
      "Iris-versicolor 2\n",
      "Iris-versicolor 2\n",
      "Iris-versicolor 2\n",
      "Iris-versicolor 2\n",
      "Iris-versicolor 2\n",
      "Iris-versicolor 2\n",
      "Iris-versicolor 2\n",
      "Iris-versicolor 2\n",
      "Iris-versicolor 2\n",
      "Iris-versicolor 2\n",
      "Iris-versicolor 2\n",
      "Iris-versicolor 2\n",
      "Iris-versicolor 2\n",
      "Iris-versicolor 2\n",
      "Iris-versicolor 1\n",
      "Iris-versicolor 2\n",
      "Iris-versicolor 2\n",
      "Iris-versicolor 2\n",
      "Iris-versicolor 2\n",
      "Iris-versicolor 2\n",
      "Iris-versicolor 2\n",
      "Iris-versicolor 2\n",
      "Iris-versicolor 2\n",
      "Iris-versicolor 2\n",
      "Iris-versicolor 2\n",
      "Iris-versicolor 2\n",
      "Iris-versicolor 2\n",
      "Iris-versicolor 2\n",
      "Iris-versicolor 2\n",
      "Iris-versicolor 2\n",
      "Iris-versicolor 2\n",
      "Iris-versicolor 2\n",
      "Iris-versicolor 2\n",
      "Iris-versicolor 2\n",
      "Iris-versicolor 2\n",
      "Iris-versicolor 2\n",
      "Iris-versicolor 2\n",
      "Iris-virginica 1\n",
      "Iris-virginica 2\n",
      "Iris-virginica 1\n",
      "Iris-virginica 1\n",
      "Iris-virginica 1\n",
      "Iris-virginica 1\n",
      "Iris-virginica 2\n",
      "Iris-virginica 1\n",
      "Iris-virginica 1\n",
      "Iris-virginica 1\n",
      "Iris-virginica 1\n",
      "Iris-virginica 1\n",
      "Iris-virginica 1\n",
      "Iris-virginica 2\n",
      "Iris-virginica 2\n",
      "Iris-virginica 1\n",
      "Iris-virginica 1\n",
      "Iris-virginica 1\n",
      "Iris-virginica 1\n",
      "Iris-virginica 2\n",
      "Iris-virginica 1\n",
      "Iris-virginica 2\n",
      "Iris-virginica 1\n",
      "Iris-virginica 2\n",
      "Iris-virginica 1\n",
      "Iris-virginica 1\n",
      "Iris-virginica 2\n",
      "Iris-virginica 2\n",
      "Iris-virginica 1\n",
      "Iris-virginica 1\n",
      "Iris-virginica 1\n",
      "Iris-virginica 1\n",
      "Iris-virginica 1\n",
      "Iris-virginica 2\n",
      "Iris-virginica 1\n",
      "Iris-virginica 1\n",
      "Iris-virginica 1\n",
      "Iris-virginica 1\n",
      "Iris-virginica 2\n",
      "Iris-virginica 1\n",
      "Iris-virginica 1\n",
      "Iris-virginica 1\n",
      "Iris-virginica 2\n",
      "Iris-virginica 1\n",
      "Iris-virginica 1\n",
      "Iris-virginica 1\n",
      "Iris-virginica 2\n",
      "Iris-virginica 1\n",
      "Iris-virginica 1\n",
      "Iris-virginica 2\n"
     ]
    }
   ],
   "source": [
    "for actual_class, clustered_class in zip(Y, Kmean.labels_):\n",
    "    print(actual_class, clustered_class)"
   ]
  },
  {
   "cell_type": "markdown",
   "id": "970eb9dc",
   "metadata": {},
   "source": [
    "Using clustering, we could see that there are 3 distinct classes, which matches up with what we want."
   ]
  },
  {
   "cell_type": "markdown",
   "id": "7abe8e0a",
   "metadata": {},
   "source": [
    "Now let's try it with hierarchical clustering."
   ]
  },
  {
   "cell_type": "code",
   "execution_count": 8,
   "id": "c0579112",
   "metadata": {},
   "outputs": [],
   "source": [
    "from sklearn.cluster import AgglomerativeClustering\n",
    "\n",
    "hierarchical_clustering = AgglomerativeClustering(\n",
    "    n_clusters=3, \n",
    ")"
   ]
  },
  {
   "cell_type": "code",
   "execution_count": 9,
   "id": "342348e9",
   "metadata": {},
   "outputs": [
    {
     "data": {
      "text/plain": [
       "array([1, 1, 1, 1, 1, 1, 1, 1, 1, 1, 1, 1, 1, 1, 1, 1, 1, 1, 1, 1, 1, 1,\n",
       "       1, 1, 1, 1, 1, 1, 1, 1, 1, 1, 1, 1, 1, 1, 1, 1, 1, 1, 1, 1, 1, 1,\n",
       "       1, 1, 1, 1, 1, 1, 0, 0, 0, 0, 0, 0, 0, 0, 0, 0, 0, 0, 0, 0, 0, 0,\n",
       "       0, 0, 0, 0, 0, 0, 0, 0, 0, 0, 0, 2, 0, 0, 0, 0, 0, 0, 0, 0, 0, 0,\n",
       "       0, 0, 0, 0, 0, 0, 0, 0, 0, 0, 0, 0, 2, 0, 2, 2, 2, 2, 0, 2, 2, 2,\n",
       "       2, 2, 2, 0, 0, 2, 2, 2, 2, 0, 2, 0, 2, 0, 2, 2, 0, 0, 2, 2, 2, 2,\n",
       "       2, 0, 0, 2, 2, 2, 0, 2, 2, 2, 0, 2, 2, 2, 0, 2, 2, 0])"
      ]
     },
     "execution_count": 9,
     "metadata": {},
     "output_type": "execute_result"
    }
   ],
   "source": [
    "hierarchical_clusters = hierarchical_clustering.fit_predict(X)\n",
    "hierarchical_clusters"
   ]
  },
  {
   "cell_type": "code",
   "execution_count": 13,
   "id": "0c0b0c91",
   "metadata": {},
   "outputs": [
    {
     "name": "stdout",
     "output_type": "stream",
     "text": [
      "Iris-setosa 1\n",
      "Iris-setosa 1\n",
      "Iris-setosa 1\n",
      "Iris-setosa 1\n",
      "Iris-setosa 1\n",
      "Iris-setosa 1\n",
      "Iris-setosa 1\n",
      "Iris-setosa 1\n",
      "Iris-setosa 1\n",
      "Iris-setosa 1\n",
      "Iris-setosa 1\n",
      "Iris-setosa 1\n",
      "Iris-setosa 1\n",
      "Iris-setosa 1\n",
      "Iris-setosa 1\n",
      "Iris-setosa 1\n",
      "Iris-setosa 1\n",
      "Iris-setosa 1\n",
      "Iris-setosa 1\n",
      "Iris-setosa 1\n",
      "Iris-setosa 1\n",
      "Iris-setosa 1\n",
      "Iris-setosa 1\n",
      "Iris-setosa 1\n",
      "Iris-setosa 1\n",
      "Iris-setosa 1\n",
      "Iris-setosa 1\n",
      "Iris-setosa 1\n",
      "Iris-setosa 1\n",
      "Iris-setosa 1\n",
      "Iris-setosa 1\n",
      "Iris-setosa 1\n",
      "Iris-setosa 1\n",
      "Iris-setosa 1\n",
      "Iris-setosa 1\n",
      "Iris-setosa 1\n",
      "Iris-setosa 1\n",
      "Iris-setosa 1\n",
      "Iris-setosa 1\n",
      "Iris-setosa 1\n",
      "Iris-setosa 1\n",
      "Iris-setosa 1\n",
      "Iris-setosa 1\n",
      "Iris-setosa 1\n",
      "Iris-setosa 1\n",
      "Iris-setosa 1\n",
      "Iris-setosa 1\n",
      "Iris-setosa 1\n",
      "Iris-setosa 1\n",
      "Iris-setosa 1\n",
      "Iris-versicolor 0\n",
      "Iris-versicolor 0\n",
      "Iris-versicolor 0\n",
      "Iris-versicolor 0\n",
      "Iris-versicolor 0\n",
      "Iris-versicolor 0\n",
      "Iris-versicolor 0\n",
      "Iris-versicolor 0\n",
      "Iris-versicolor 0\n",
      "Iris-versicolor 0\n",
      "Iris-versicolor 0\n",
      "Iris-versicolor 0\n",
      "Iris-versicolor 0\n",
      "Iris-versicolor 0\n",
      "Iris-versicolor 0\n",
      "Iris-versicolor 0\n",
      "Iris-versicolor 0\n",
      "Iris-versicolor 0\n",
      "Iris-versicolor 0\n",
      "Iris-versicolor 0\n",
      "Iris-versicolor 0\n",
      "Iris-versicolor 0\n",
      "Iris-versicolor 0\n",
      "Iris-versicolor 0\n",
      "Iris-versicolor 0\n",
      "Iris-versicolor 0\n",
      "Iris-versicolor 0\n",
      "Iris-versicolor 2\n",
      "Iris-versicolor 0\n",
      "Iris-versicolor 0\n",
      "Iris-versicolor 0\n",
      "Iris-versicolor 0\n",
      "Iris-versicolor 0\n",
      "Iris-versicolor 0\n",
      "Iris-versicolor 0\n",
      "Iris-versicolor 0\n",
      "Iris-versicolor 0\n",
      "Iris-versicolor 0\n",
      "Iris-versicolor 0\n",
      "Iris-versicolor 0\n",
      "Iris-versicolor 0\n",
      "Iris-versicolor 0\n",
      "Iris-versicolor 0\n",
      "Iris-versicolor 0\n",
      "Iris-versicolor 0\n",
      "Iris-versicolor 0\n",
      "Iris-versicolor 0\n",
      "Iris-versicolor 0\n",
      "Iris-versicolor 0\n",
      "Iris-versicolor 0\n",
      "Iris-virginica 2\n",
      "Iris-virginica 0\n",
      "Iris-virginica 2\n",
      "Iris-virginica 2\n",
      "Iris-virginica 2\n",
      "Iris-virginica 2\n",
      "Iris-virginica 0\n",
      "Iris-virginica 2\n",
      "Iris-virginica 2\n",
      "Iris-virginica 2\n",
      "Iris-virginica 2\n",
      "Iris-virginica 2\n",
      "Iris-virginica 2\n",
      "Iris-virginica 0\n",
      "Iris-virginica 0\n",
      "Iris-virginica 2\n",
      "Iris-virginica 2\n",
      "Iris-virginica 2\n",
      "Iris-virginica 2\n",
      "Iris-virginica 0\n",
      "Iris-virginica 2\n",
      "Iris-virginica 0\n",
      "Iris-virginica 2\n",
      "Iris-virginica 0\n",
      "Iris-virginica 2\n",
      "Iris-virginica 2\n",
      "Iris-virginica 0\n",
      "Iris-virginica 0\n",
      "Iris-virginica 2\n",
      "Iris-virginica 2\n",
      "Iris-virginica 2\n",
      "Iris-virginica 2\n",
      "Iris-virginica 2\n",
      "Iris-virginica 0\n",
      "Iris-virginica 0\n",
      "Iris-virginica 2\n",
      "Iris-virginica 2\n",
      "Iris-virginica 2\n",
      "Iris-virginica 0\n",
      "Iris-virginica 2\n",
      "Iris-virginica 2\n",
      "Iris-virginica 2\n",
      "Iris-virginica 0\n",
      "Iris-virginica 2\n",
      "Iris-virginica 2\n",
      "Iris-virginica 2\n",
      "Iris-virginica 0\n",
      "Iris-virginica 2\n",
      "Iris-virginica 2\n",
      "Iris-virginica 0\n"
     ]
    }
   ],
   "source": [
    "for actual_class, clustered_class in zip(Y, hierarchical_clusters):\n",
    "    print(actual_class, clustered_class)"
   ]
  },
  {
   "cell_type": "markdown",
   "id": "a77186ac",
   "metadata": {},
   "source": [
    "# Principal Components Analysis"
   ]
  },
  {
   "cell_type": "code",
   "execution_count": 10,
   "id": "225b12e3",
   "metadata": {},
   "outputs": [],
   "source": [
    "from sklearn.decomposition import PCA as sklearnPCA\n",
    "from matplotlib import pyplot as plt\n",
    "import seaborn as sns"
   ]
  },
  {
   "cell_type": "markdown",
   "id": "3e56449e",
   "metadata": {},
   "source": [
    "# Step 1: Normalize/Standardize the data.\n",
    "\n",
    "\n",
    "$$ z = \\frac{value-mean}{standarddeviation}$$"
   ]
  },
  {
   "cell_type": "code",
   "execution_count": 11,
   "id": "08246535",
   "metadata": {},
   "outputs": [],
   "source": [
    "X = data.drop(\"class\", axis=1)\n",
    "Y = data[\"class\"]"
   ]
  },
  {
   "cell_type": "code",
   "execution_count": 16,
   "id": "aec41dca-ca22-4704-85f6-45c05dc4fac7",
   "metadata": {},
   "outputs": [
    {
     "data": {
      "text/plain": [
       "pandas.core.frame.DataFrame"
      ]
     },
     "execution_count": 16,
     "metadata": {},
     "output_type": "execute_result"
    }
   ],
   "source": [
    "type(X)"
   ]
  },
  {
   "cell_type": "code",
   "execution_count": 17,
   "id": "3b6c6891-93bf-417e-931c-40fcac74933f",
   "metadata": {},
   "outputs": [
    {
     "data": {
      "text/plain": [
       "pandas.core.series.Series"
      ]
     },
     "execution_count": 17,
     "metadata": {},
     "output_type": "execute_result"
    }
   ],
   "source": [
    "type(Y)"
   ]
  },
  {
   "cell_type": "markdown",
   "id": "5765ad35",
   "metadata": {},
   "source": [
    "### Intuition"
   ]
  },
  {
   "cell_type": "code",
   "execution_count": 18,
   "id": "98bd26e0",
   "metadata": {},
   "outputs": [
    {
     "data": {
      "text/plain": [
       "<Axes: xlabel='sepal_len', ylabel='Count'>"
      ]
     },
     "execution_count": 18,
     "metadata": {},
     "output_type": "execute_result"
    },
    {
     "data": {
      "image/png": "[encoded data removed]",
      "text/plain": [
       "<Figure size 640x480 with 1 Axes>"
      ]
     },
     "metadata": {},
     "output_type": "display_data"
    }
   ],
   "source": [
    "# View the current histogram of sepal_len.\n",
    "sns.histplot(data=X, x=\"sepal_len\", bins=20)"
   ]
  },
  {
   "cell_type": "code",
   "execution_count": 19,
   "id": "81358e54-f734-492a-9e15-d67b5a74501b",
   "metadata": {},
   "outputs": [
    {
     "data": {
      "text/plain": [
       "5.1"
      ]
     },
     "execution_count": 19,
     "metadata": {},
     "output_type": "execute_result"
    }
   ],
   "source": [
    "data['sepal_len'][0]"
   ]
  },
  {
   "cell_type": "code",
   "execution_count": 20,
   "id": "d45ea31f",
   "metadata": {},
   "outputs": [
    {
     "name": "stdout",
     "output_type": "stream",
     "text": [
      "Standardized Score for Sepal Length at value 5.1:  -0.9006811702978088\n"
     ]
    }
   ],
   "source": [
    "# Let's say that we want to standardize row 0 and column sepal_len)\n",
    "value = 5.1\n",
    "mean = np.mean(X[\"sepal_len\"])\n",
    "sd = np.std(X[\"sepal_len\"])\n",
    "# The z score is the number of sd from the mean (pos or neg)\n",
    "standardized_score = (value - mean) / sd\n",
    "print(\"Standardized Score for Sepal Length at value 5.1: \", standardized_score)\n"
   ]
  },
  {
   "cell_type": "code",
   "execution_count": 21,
   "id": "b89b4ddf-85ed-41ca-9eab-d3b1ec4599be",
   "metadata": {},
   "outputs": [
    {
     "name": "stdout",
     "output_type": "stream",
     "text": [
      "The mean sepal length is  5.843333333333334\n"
     ]
    }
   ],
   "source": [
    "print(\"The mean sepal length is \", mean)"
   ]
  },
  {
   "cell_type": "code",
   "execution_count": 22,
   "id": "8d852f3e-6e3b-41ac-9006-6ae111df5f3d",
   "metadata": {},
   "outputs": [
    {
     "name": "stdout",
     "output_type": "stream",
     "text": [
      "The sd sepal length is  0.8253012917851409\n"
     ]
    }
   ],
   "source": [
    "print(\"The sd sepal length is \", sd)"
   ]
  },
  {
   "cell_type": "code",
   "execution_count": 23,
   "id": "927afdce-2247-4b7a-a7b9-46bfaf47bd81",
   "metadata": {},
   "outputs": [
    {
     "data": {
      "text/plain": [
       "3.5"
      ]
     },
     "execution_count": 23,
     "metadata": {},
     "output_type": "execute_result"
    }
   ],
   "source": [
    "data['sepal_wid'][0]"
   ]
  },
  {
   "cell_type": "code",
   "execution_count": 24,
   "id": "b4af6be9",
   "metadata": {},
   "outputs": [
    {
     "name": "stdout",
     "output_type": "stream",
     "text": [
      "Standardized Score for Sepal Length at value 3.5:  1.0320572244889565\n"
     ]
    }
   ],
   "source": [
    "# Now let's standardize row 0 and column sepal_wid)\n",
    "value = 3.5\n",
    "mean = np.mean(X[\"sepal_wid\"])\n",
    "sd = np.std(X[\"sepal_wid\"])\n",
    "\n",
    "standardized_score = (value - mean) / sd\n",
    "print(\"Standardized Score for Sepal Length at value 3.5: \", standardized_score)"
   ]
  },
  {
   "cell_type": "code",
   "execution_count": 25,
   "id": "a0764f80",
   "metadata": {},
   "outputs": [
    {
     "name": "stdout",
     "output_type": "stream",
     "text": [
      "Standardized Score for Sepal Length at value 5.1:  -1.1430169111851105\n"
     ]
    }
   ],
   "source": [
    "# Let's now standardize row 1 and column sepal_len.\n",
    "value = 4.9\n",
    "mean = np.mean(X[\"sepal_len\"])\n",
    "sd = np.std(X[\"sepal_len\"])\n",
    "\n",
    "standardized_score = (value - mean) / sd\n",
    "print(\"Standardized Score for Sepal Length at value 5.1: \", standardized_score)\n"
   ]
  },
  {
   "cell_type": "code",
   "execution_count": null,
   "id": "eb3a545a-453d-44fa-a092-6cd989d29399",
   "metadata": {},
   "outputs": [],
   "source": []
  },
  {
   "cell_type": "markdown",
   "id": "0229b0c8",
   "metadata": {},
   "source": [
    "### Doing this in Scikit-Learn"
   ]
  },
  {
   "cell_type": "code",
   "execution_count": 12,
   "id": "b9e62308",
   "metadata": {},
   "outputs": [],
   "source": [
    "from sklearn.preprocessing import StandardScaler\n",
    "\n",
    "scaler = StandardScaler()\n",
    "standardized_X = scaler.fit_transform(X)"
   ]
  },
  {
   "cell_type": "code",
   "execution_count": 13,
   "id": "f4090250",
   "metadata": {},
   "outputs": [],
   "source": [
    "# z scores for all values\n",
    "X[\"sepal_len\"] = standardized_X[:,0]\n",
    "X[\"sepal_wid\"] = standardized_X[:,1]\n",
    "X[\"petal_len\"] = standardized_X[:,2]\n",
    "X[\"petal_wid\"] = standardized_X[:,3]"
   ]
  },
  {
   "cell_type": "code",
   "execution_count": 28,
   "id": "d6a946b3-d00c-4d98-9097-1d03ce148b95",
   "metadata": {},
   "outputs": [
    {
     "data": {
      "text/plain": [
       "0   -0.900681\n",
       "1   -1.143017\n",
       "Name: sepal_len, dtype: float64"
      ]
     },
     "execution_count": 28,
     "metadata": {},
     "output_type": "execute_result"
    }
   ],
   "source": [
    "X[\"sepal_len\"][:2]"
   ]
  },
  {
   "cell_type": "code",
   "execution_count": 29,
   "id": "a7e44556-66a2-4609-9542-5acebad8da74",
   "metadata": {},
   "outputs": [
    {
     "data": {
      "text/plain": [
       "pandas.core.series.Series"
      ]
     },
     "execution_count": 29,
     "metadata": {},
     "output_type": "execute_result"
    }
   ],
   "source": [
    "type(X[\"sepal_len\"])"
   ]
  },
  {
   "cell_type": "markdown",
   "id": "8d3e4590",
   "metadata": {},
   "source": [
    "Note that the scores that we calculated exactly match up with what the standard scaler gives us!\n",
    "\n",
    "Rather than using X, we'll be using the standardized version of X when doing PCA."
   ]
  },
  {
   "cell_type": "markdown",
   "id": "409625ec",
   "metadata": {},
   "source": [
    "### Visualization"
   ]
  },
  {
   "cell_type": "code",
   "execution_count": 30,
   "id": "cb1cd702",
   "metadata": {},
   "outputs": [
    {
     "data": {
      "text/plain": [
       "<Axes: xlabel='sepal_len', ylabel='Count'>"
      ]
     },
     "execution_count": 30,
     "metadata": {},
     "output_type": "execute_result"
    },
    {
     "data": {
      "image/png": "[encoded data removed]",
      "text/plain": [
       "<Figure size 640x480 with 1 Axes>"
      ]
     },
     "metadata": {},
     "output_type": "display_data"
    }
   ],
   "source": [
    "sns.histplot(data=X, x=\"sepal_len\", bins=20)"
   ]
  },
  {
   "cell_type": "markdown",
   "id": "fa23d468",
   "metadata": {},
   "source": [
    "Notice how this graph looks exactly the same as the previously-plotted graph but just centered around 0! That's all that standardization does!"
   ]
  },
  {
   "cell_type": "markdown",
   "id": "d9319b89",
   "metadata": {},
   "source": [
    "# Step 2: Use PCA"
   ]
  },
  {
   "cell_type": "code",
   "execution_count": 14,
   "id": "74e800a5",
   "metadata": {},
   "outputs": [],
   "source": [
    "pca = sklearnPCA(n_components=2)\n",
    "pca_components = pca.fit_transform(X)"
   ]
  },
  {
   "cell_type": "markdown",
   "id": "5a3af0a6",
   "metadata": {},
   "source": [
    "### Intuition"
   ]
  },
  {
   "cell_type": "markdown",
   "id": "99c8026d",
   "metadata": {},
   "source": [
    "Let's look at the first standardized data point that we have."
   ]
  },
  {
   "cell_type": "code",
   "execution_count": 32,
   "id": "7d73f28d",
   "metadata": {},
   "outputs": [
    {
     "data": {
      "text/plain": [
       "sepal_len   -0.900681\n",
       "sepal_wid    1.032057\n",
       "petal_len   -1.341272\n",
       "petal_wid   -1.312977\n",
       "Name: 0, dtype: float64"
      ]
     },
     "execution_count": 32,
     "metadata": {},
     "output_type": "execute_result"
    }
   ],
   "source": [
    "X.iloc[0]"
   ]
  },
  {
   "cell_type": "markdown",
   "id": "c8c0e22c",
   "metadata": {},
   "source": [
    "Since we cannot visualize 4-dimensional data, we're going to <b>project</b> these four values into a 2-dimensional dataset by using complicated linear algebra."
   ]
  },
  {
   "cell_type": "code",
   "execution_count": 33,
   "id": "b0bc7ecd",
   "metadata": {},
   "outputs": [
    {
     "data": {
      "text/plain": [
       "array([-2.26454173,  0.5057039 ])"
      ]
     },
     "execution_count": 33,
     "metadata": {},
     "output_type": "execute_result"
    }
   ],
   "source": [
    "pca_components[0]"
   ]
  },
  {
   "cell_type": "markdown",
   "id": "5749d968",
   "metadata": {},
   "source": [
    "Essentially, what we've done here is that we've combined the 4 values into 2 values which are -2.26454173 and 0.5057039. In particular, we say that the first value of -2.26454173 is the value of the <b>first principal component</b> and the second value of 0.5057039 is the value of the <b>second principal component</b>."
   ]
  },
  {
   "cell_type": "markdown",
   "id": "6e856642",
   "metadata": {},
   "source": [
    "Even though we magically transformed these 4 variables into 2 variables, how well does this explain our data? \n",
    "\n",
    "We could answer this question by looking at the \"explained variance ratio\" for each of the principal components."
   ]
  },
  {
   "cell_type": "code",
   "execution_count": 15,
   "id": "2be5199a",
   "metadata": {},
   "outputs": [
    {
     "name": "stdout",
     "output_type": "stream",
     "text": [
      "[0.72770452 0.23030523]\n"
     ]
    }
   ],
   "source": [
    "print(pca.explained_variance_ratio_)"
   ]
  },
  {
   "cell_type": "markdown",
   "id": "a3e2fad0",
   "metadata": {},
   "source": [
    "What this is telling us is that the first principal component accounts for roughly 72% of the entire dataframe and the second principal component is accounting for 23% of the entire dataframe! \n",
    "\n",
    "By combining these, we have accounted for 72 + 23 = 95% of the variation of the entire dataframe. Sure, this isn't 100% but we could now visualize this easily."
   ]
  },
  {
   "cell_type": "markdown",
   "id": "54b441b3",
   "metadata": {},
   "source": [
    "### Visualization"
   ]
  },
  {
   "cell_type": "code",
   "execution_count": 16,
   "id": "468eb810",
   "metadata": {},
   "outputs": [
    {
     "ename": "OSError",
     "evalue": "'seaborn-whitegrid' is not a valid package style, path of style file, URL of style file, or library style name (library styles are listed in `style.available`)",
     "output_type": "error",
     "traceback": [
      "\u001b[0;31m---------------------------------------------------------------------------\u001b[0m",
      "\u001b[0;31mFileNotFoundError\u001b[0m                         Traceback (most recent call last)",
      "File \u001b[0;32m/usr/local/lib/python3.11/site-packages/matplotlib/style/core.py:137\u001b[0m, in \u001b[0;36muse\u001b[0;34m(style)\u001b[0m\n\u001b[1;32m    136\u001b[0m \u001b[38;5;28;01mtry\u001b[39;00m:\n\u001b[0;32m--> 137\u001b[0m     style \u001b[38;5;241m=\u001b[39m \u001b[43m_rc_params_in_file\u001b[49m\u001b[43m(\u001b[49m\u001b[43mstyle\u001b[49m\u001b[43m)\u001b[49m\n\u001b[1;32m    138\u001b[0m \u001b[38;5;28;01mexcept\u001b[39;00m \u001b[38;5;167;01mOSError\u001b[39;00m \u001b[38;5;28;01mas\u001b[39;00m err:\n",
      "File \u001b[0;32m/usr/local/lib/python3.11/site-packages/matplotlib/__init__.py:866\u001b[0m, in \u001b[0;36m_rc_params_in_file\u001b[0;34m(fname, transform, fail_on_error)\u001b[0m\n\u001b[1;32m    865\u001b[0m rc_temp \u001b[38;5;241m=\u001b[39m {}\n\u001b[0;32m--> 866\u001b[0m \u001b[43m\u001b[49m\u001b[38;5;28;43;01mwith\u001b[39;49;00m\u001b[43m \u001b[49m\u001b[43m_open_file_or_url\u001b[49m\u001b[43m(\u001b[49m\u001b[43mfname\u001b[49m\u001b[43m)\u001b[49m\u001b[43m \u001b[49m\u001b[38;5;28;43;01mas\u001b[39;49;00m\u001b[43m \u001b[49m\u001b[43mfd\u001b[49m\u001b[43m:\u001b[49m\n\u001b[1;32m    867\u001b[0m \u001b[43m    \u001b[49m\u001b[38;5;28;43;01mtry\u001b[39;49;00m\u001b[43m:\u001b[49m\n",
      "File \u001b[0;32m/usr/local/Cellar/python@3.11/3.11.5/Frameworks/Python.framework/Versions/3.11/lib/python3.11/contextlib.py:137\u001b[0m, in \u001b[0;36m_GeneratorContextManager.__enter__\u001b[0;34m(self)\u001b[0m\n\u001b[1;32m    136\u001b[0m \u001b[38;5;28;01mtry\u001b[39;00m:\n\u001b[0;32m--> 137\u001b[0m     \u001b[38;5;28;01mreturn\u001b[39;00m \u001b[38;5;28mnext\u001b[39m(\u001b[38;5;28mself\u001b[39m\u001b[38;5;241m.\u001b[39mgen)\n\u001b[1;32m    138\u001b[0m \u001b[38;5;28;01mexcept\u001b[39;00m \u001b[38;5;167;01mStopIteration\u001b[39;00m:\n",
      "File \u001b[0;32m/usr/local/lib/python3.11/site-packages/matplotlib/__init__.py:843\u001b[0m, in \u001b[0;36m_open_file_or_url\u001b[0;34m(fname)\u001b[0m\n\u001b[1;32m    842\u001b[0m fname \u001b[38;5;241m=\u001b[39m os\u001b[38;5;241m.\u001b[39mpath\u001b[38;5;241m.\u001b[39mexpanduser(fname)\n\u001b[0;32m--> 843\u001b[0m \u001b[38;5;28;01mwith\u001b[39;00m \u001b[38;5;28mopen\u001b[39m(fname, encoding\u001b[38;5;241m=\u001b[39m\u001b[38;5;124m'\u001b[39m\u001b[38;5;124mutf-8\u001b[39m\u001b[38;5;124m'\u001b[39m) \u001b[38;5;28;01mas\u001b[39;00m f:\n\u001b[1;32m    844\u001b[0m     \u001b[38;5;28;01myield\u001b[39;00m f\n",
      "\u001b[0;31mFileNotFoundError\u001b[0m: [Errno 2] No such file or directory: 'seaborn-whitegrid'",
      "\nThe above exception was the direct cause of the following exception:\n",
      "\u001b[0;31mOSError\u001b[0m                                   Traceback (most recent call last)",
      "Cell \u001b[0;32mIn[16], line 1\u001b[0m\n\u001b[0;32m----> 1\u001b[0m \u001b[38;5;28;43;01mwith\u001b[39;49;00m\u001b[43m \u001b[49m\u001b[43mplt\u001b[49m\u001b[38;5;241;43m.\u001b[39;49m\u001b[43mstyle\u001b[49m\u001b[38;5;241;43m.\u001b[39;49m\u001b[43mcontext\u001b[49m\u001b[43m(\u001b[49m\u001b[38;5;124;43m'\u001b[39;49m\u001b[38;5;124;43mseaborn-whitegrid\u001b[39;49m\u001b[38;5;124;43m'\u001b[39;49m\u001b[43m)\u001b[49m\u001b[43m:\u001b[49m\n\u001b[1;32m      2\u001b[0m \u001b[43m    \u001b[49m\u001b[43mplt\u001b[49m\u001b[38;5;241;43m.\u001b[39;49m\u001b[43mfigure\u001b[49m\u001b[43m(\u001b[49m\u001b[43mfigsize\u001b[49m\u001b[38;5;241;43m=\u001b[39;49m\u001b[43m(\u001b[49m\u001b[38;5;241;43m8\u001b[39;49m\u001b[43m,\u001b[49m\u001b[43m \u001b[49m\u001b[38;5;241;43m6\u001b[39;49m\u001b[43m)\u001b[49m\u001b[43m)\u001b[49m\n\u001b[1;32m      3\u001b[0m \u001b[43m    \u001b[49m\u001b[38;5;28;43;01mfor\u001b[39;49;00m\u001b[43m \u001b[49m\u001b[43mlab\u001b[49m\u001b[43m,\u001b[49m\u001b[43m \u001b[49m\u001b[43mcol\u001b[49m\u001b[43m \u001b[49m\u001b[38;5;129;43;01min\u001b[39;49;00m\u001b[43m \u001b[49m\u001b[38;5;28;43mzip\u001b[39;49m\u001b[43m(\u001b[49m\n\u001b[1;32m      4\u001b[0m \u001b[43m        \u001b[49m\u001b[43m(\u001b[49m\u001b[38;5;124;43m'\u001b[39;49m\u001b[38;5;124;43mIris-setosa\u001b[39;49m\u001b[38;5;124;43m'\u001b[39;49m\u001b[43m,\u001b[49m\u001b[43m \u001b[49m\u001b[38;5;124;43m'\u001b[39;49m\u001b[38;5;124;43mIris-versicolor\u001b[39;49m\u001b[38;5;124;43m'\u001b[39;49m\u001b[43m,\u001b[49m\u001b[43m \u001b[49m\u001b[38;5;124;43m'\u001b[39;49m\u001b[38;5;124;43mIris-virginica\u001b[39;49m\u001b[38;5;124;43m'\u001b[39;49m\u001b[43m)\u001b[49m\u001b[43m,\u001b[49m\n\u001b[1;32m      5\u001b[0m \u001b[43m        \u001b[49m\u001b[43m(\u001b[49m\u001b[38;5;124;43m'\u001b[39;49m\u001b[38;5;124;43mblue\u001b[39;49m\u001b[38;5;124;43m'\u001b[39;49m\u001b[43m,\u001b[49m\u001b[43m \u001b[49m\u001b[38;5;124;43m'\u001b[39;49m\u001b[38;5;124;43mred\u001b[39;49m\u001b[38;5;124;43m'\u001b[39;49m\u001b[43m,\u001b[49m\u001b[43m \u001b[49m\u001b[38;5;124;43m'\u001b[39;49m\u001b[38;5;124;43mgreen\u001b[39;49m\u001b[38;5;124;43m'\u001b[39;49m\u001b[43m)\u001b[49m\n\u001b[1;32m      6\u001b[0m \u001b[43m    \u001b[49m\u001b[43m)\u001b[49m\u001b[43m:\u001b[49m\n",
      "File \u001b[0;32m/usr/local/Cellar/python@3.11/3.11.5/Frameworks/Python.framework/Versions/3.11/lib/python3.11/contextlib.py:137\u001b[0m, in \u001b[0;36m_GeneratorContextManager.__enter__\u001b[0;34m(self)\u001b[0m\n\u001b[1;32m    135\u001b[0m \u001b[38;5;28;01mdel\u001b[39;00m \u001b[38;5;28mself\u001b[39m\u001b[38;5;241m.\u001b[39margs, \u001b[38;5;28mself\u001b[39m\u001b[38;5;241m.\u001b[39mkwds, \u001b[38;5;28mself\u001b[39m\u001b[38;5;241m.\u001b[39mfunc\n\u001b[1;32m    136\u001b[0m \u001b[38;5;28;01mtry\u001b[39;00m:\n\u001b[0;32m--> 137\u001b[0m     \u001b[38;5;28;01mreturn\u001b[39;00m \u001b[38;5;28mnext\u001b[39m(\u001b[38;5;28mself\u001b[39m\u001b[38;5;241m.\u001b[39mgen)\n\u001b[1;32m    138\u001b[0m \u001b[38;5;28;01mexcept\u001b[39;00m \u001b[38;5;167;01mStopIteration\u001b[39;00m:\n\u001b[1;32m    139\u001b[0m     \u001b[38;5;28;01mraise\u001b[39;00m \u001b[38;5;167;01mRuntimeError\u001b[39;00m(\u001b[38;5;124m\"\u001b[39m\u001b[38;5;124mgenerator didn\u001b[39m\u001b[38;5;124m'\u001b[39m\u001b[38;5;124mt yield\u001b[39m\u001b[38;5;124m\"\u001b[39m) \u001b[38;5;28;01mfrom\u001b[39;00m \u001b[38;5;28;01mNone\u001b[39;00m\n",
      "File \u001b[0;32m/usr/local/lib/python3.11/site-packages/matplotlib/style/core.py:194\u001b[0m, in \u001b[0;36mcontext\u001b[0;34m(style, after_reset)\u001b[0m\n\u001b[1;32m    192\u001b[0m \u001b[38;5;28;01mif\u001b[39;00m after_reset:\n\u001b[1;32m    193\u001b[0m     mpl\u001b[38;5;241m.\u001b[39mrcdefaults()\n\u001b[0;32m--> 194\u001b[0m \u001b[43muse\u001b[49m\u001b[43m(\u001b[49m\u001b[43mstyle\u001b[49m\u001b[43m)\u001b[49m\n\u001b[1;32m    195\u001b[0m \u001b[38;5;28;01myield\u001b[39;00m\n",
      "File \u001b[0;32m/usr/local/lib/python3.11/site-packages/matplotlib/style/core.py:139\u001b[0m, in \u001b[0;36muse\u001b[0;34m(style)\u001b[0m\n\u001b[1;32m    137\u001b[0m         style \u001b[38;5;241m=\u001b[39m _rc_params_in_file(style)\n\u001b[1;32m    138\u001b[0m     \u001b[38;5;28;01mexcept\u001b[39;00m \u001b[38;5;167;01mOSError\u001b[39;00m \u001b[38;5;28;01mas\u001b[39;00m err:\n\u001b[0;32m--> 139\u001b[0m         \u001b[38;5;28;01mraise\u001b[39;00m \u001b[38;5;167;01mOSError\u001b[39;00m(\n\u001b[1;32m    140\u001b[0m             \u001b[38;5;124mf\u001b[39m\u001b[38;5;124m\"\u001b[39m\u001b[38;5;132;01m{\u001b[39;00mstyle\u001b[38;5;132;01m!r}\u001b[39;00m\u001b[38;5;124m is not a valid package style, path of style \u001b[39m\u001b[38;5;124m\"\u001b[39m\n\u001b[1;32m    141\u001b[0m             \u001b[38;5;124mf\u001b[39m\u001b[38;5;124m\"\u001b[39m\u001b[38;5;124mfile, URL of style file, or library style name (library \u001b[39m\u001b[38;5;124m\"\u001b[39m\n\u001b[1;32m    142\u001b[0m             \u001b[38;5;124mf\u001b[39m\u001b[38;5;124m\"\u001b[39m\u001b[38;5;124mstyles are listed in `style.available`)\u001b[39m\u001b[38;5;124m\"\u001b[39m) \u001b[38;5;28;01mfrom\u001b[39;00m \u001b[38;5;21;01merr\u001b[39;00m\n\u001b[1;32m    143\u001b[0m filtered \u001b[38;5;241m=\u001b[39m {}\n\u001b[1;32m    144\u001b[0m \u001b[38;5;28;01mfor\u001b[39;00m k \u001b[38;5;129;01min\u001b[39;00m style:  \u001b[38;5;66;03m# don't trigger RcParams.__getitem__('backend')\u001b[39;00m\n",
      "\u001b[0;31mOSError\u001b[0m: 'seaborn-whitegrid' is not a valid package style, path of style file, URL of style file, or library style name (library styles are listed in `style.available`)"
     ]
    }
   ],
   "source": [
    "with plt.style.context('seaborn-whitegrid'):\n",
    "    plt.figure(figsize=(8, 6))\n",
    "    for lab, col in zip(\n",
    "        ('Iris-setosa', 'Iris-versicolor', 'Iris-virginica'),\n",
    "        ('blue', 'red', 'green')\n",
    "    ):\n",
    "        plt.scatter(\n",
    "            pca_components[Y==lab, 0],\n",
    "            pca_components[Y==lab, 1],\n",
    "            label=lab,\n",
    "            c=col\n",
    "        )\n",
    "    plt.xlabel('Principal Component 1')\n",
    "    plt.ylabel('Principal Component 2')\n",
    "    plt.legend(loc='lower right')\n",
    "    plt.tight_layout()\n",
    "    plt.show()"
   ]
  },
  {
   "cell_type": "markdown",
   "id": "70a4e364",
   "metadata": {},
   "source": [
    "### Intuition 2"
   ]
  },
  {
   "cell_type": "markdown",
   "id": "b03f0595",
   "metadata": {},
   "source": [
    "Now that we have our principal components that account for 95% of the variation, how were these calculated?!"
   ]
  },
  {
   "cell_type": "code",
   "execution_count": null,
   "id": "be3799b1",
   "metadata": {},
   "outputs": [],
   "source": [
    "pca.components_"
   ]
  },
  {
   "cell_type": "code",
   "execution_count": null,
   "id": "615b0365",
   "metadata": {},
   "outputs": [],
   "source": [
    "X"
   ]
  },
  {
   "cell_type": "markdown",
   "id": "130c5e52",
   "metadata": {},
   "source": [
    "Essentially, what this is saying is that the first principal component is made up of 0.36158968 of the first column (sepal_len), -0.08226889 of the second column (sepal_wid), 0.85657211 of the third column (petal_len), and 0.35884393 of the fourth column (petal_wid)"
   ]
  },
  {
   "cell_type": "markdown",
   "id": "8997a9b9-5a67-4def-b298-ba3a51037151",
   "metadata": {},
   "source": [
    "LP: As 73% of data is explained by pca1 and 0.85 (petal_len) is the highest value of pca1, I expect petal length to have the highest stdev. I will test this:"
   ]
  },
  {
   "cell_type": "code",
   "execution_count": null,
   "id": "5221ac5c-0672-46eb-8f6e-eb4ad19a98b3",
   "metadata": {},
   "outputs": [],
   "source": [
    "sd_sepal_len = np.std(X[\"sepal_len\"])\n",
    "print(sd_sepal_len)"
   ]
  },
  {
   "cell_type": "code",
   "execution_count": null,
   "id": "e07051a8-377b-44ee-b91e-85cbf1fea6dd",
   "metadata": {},
   "outputs": [],
   "source": [
    "sd_sepal_wid = np.std(X[\"sepal_wid\"])\n",
    "print(sd_sepal_wid)"
   ]
  },
  {
   "cell_type": "code",
   "execution_count": null,
   "id": "54b825e2-9eb2-40ae-a502-14068c11ed6f",
   "metadata": {},
   "outputs": [],
   "source": [
    "sd_petal_len = np.std(X[\"petal_len\"])\n",
    "print(sd_petal_len)"
   ]
  },
  {
   "cell_type": "code",
   "execution_count": null,
   "id": "d529a56f-043b-4fa6-bdd1-8c3b66424459",
   "metadata": {},
   "outputs": [],
   "source": [
    "sd_petal_wid = np.std(X[\"petal_wid\"])\n",
    "print(sd_petal_wid)"
   ]
  },
  {
   "cell_type": "markdown",
   "id": "99f5fd1a-ea5c-42ca-918f-441fbfd89d4d",
   "metadata": {},
   "source": [
    "LP:probably want to do this prior to standardisation"
   ]
  },
  {
   "cell_type": "code",
   "execution_count": null,
   "id": "1fce2240-9fac-435b-b5e4-6e4d72940262",
   "metadata": {},
   "outputs": [],
   "source": []
  }
 ],
 "metadata": {
  "kernelspec": {
   "display_name": "Python 3 (ipykernel)",
   "language": "python",
   "name": "python3"
  },
  "language_info": {
   "codemirror_mode": {
    "name": "ipython",
    "version": 3
   },
   "file_extension": ".py",
   "mimetype": "text/x-python",
   "name": "python",
   "nbconvert_exporter": "python",
   "pygments_lexer": "ipython3",
   "version": "3.11.5"
  }
 },
 "nbformat": 4,
 "nbformat_minor": 5
}
